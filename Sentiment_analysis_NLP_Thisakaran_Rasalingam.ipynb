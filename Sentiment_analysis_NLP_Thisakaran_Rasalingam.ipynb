{
  "nbformat": 4,
  "nbformat_minor": 0,
  "metadata": {
    "colab": {
      "provenance": [],
      "authorship_tag": "ABX9TyMpFBSS72Ks2pyltnXOv3kY",
      "include_colab_link": true
    },
    "kernelspec": {
      "name": "python3",
      "display_name": "Python 3"
    },
    "language_info": {
      "name": "python"
    }
  },
  "cells": [
    {
      "cell_type": "markdown",
      "metadata": {
        "id": "view-in-github",
        "colab_type": "text"
      },
      "source": [
        "<a href=\"https://colab.research.google.com/github/Thisakaran/Credit_Card-Fraud-Detection/blob/main/Sentiment_analysis_NLP_Thisakaran_Rasalingam.ipynb\" target=\"_parent\"><img src=\"https://colab.research.google.com/assets/colab-badge.svg\" alt=\"Open In Colab\"/></a>"
      ]
    },
    {
      "cell_type": "code",
      "source": [
        "import tweepy\n",
        "import pandas as pd\n",
        "import re\n",
        "import nltk\n",
        "from nltk.corpus import stopwords\n",
        "from nltk.tokenize import word_tokenize\n",
        "from nltk.stem import WordNetLemmatizer\n",
        "from gensim import corpora\n",
        "from gensim.models import LdaModel\n",
        "from sklearn.feature_extraction.text import TfidfVectorizer\n",
        "from sklearn.model_selection import train_test_split\n",
        "from sklearn.metrics import accuracy_score\n",
        "from sklearn.naive_bayes import MultinomialNB\n",
        "from sklearn.svm import SVC\n",
        "from sklearn.linear_model import LogisticRegression\n",
        "import matplotlib.pyplot as plt\n",
        "\n",
        "from nltk.sentiment import SentimentIntensityAnalyzer\n",
        "import matplotlib.pyplot as plt\n",
        "import seaborn as sns\n",
        "import folium\n",
        "from geopy.geocoders import Nominatim\n",
        "\n",
        "# Download nltk resources\n",
        "nltk.download('vader_lexicon')\n",
        "\n"
      ],
      "metadata": {
        "colab": {
          "base_uri": "https://localhost:8080/",
          "height": 0
        },
        "id": "0JsWbDm3rEmj",
        "outputId": "be1b89fb-7a24-4e34-e864-e1a54d30e7de"
      },
      "execution_count": 69,
      "outputs": [
        {
          "output_type": "stream",
          "name": "stderr",
          "text": [
            "[nltk_data] Downloading package vader_lexicon to /root/nltk_data...\n",
            "[nltk_data]   Package vader_lexicon is already up-to-date!\n"
          ]
        },
        {
          "output_type": "execute_result",
          "data": {
            "text/plain": [
              "True"
            ]
          },
          "metadata": {},
          "execution_count": 69
        }
      ]
    },
    {
      "cell_type": "code",
      "source": [],
      "metadata": {
        "id": "LkVCGpk6K-Xg"
      },
      "execution_count": null,
      "outputs": []
    },
    {
      "cell_type": "code",
      "source": [
        "print(df)"
      ],
      "metadata": {
        "colab": {
          "base_uri": "https://localhost:8080/",
          "height": 0
        },
        "id": "9-UqPuNY82Cz",
        "outputId": "93775322-ba58-4a27-dcb2-064cb51c9cfd"
      },
      "execution_count": 14,
      "outputs": [
        {
          "output_type": "stream",
          "name": "stdout",
          "text": [
            "                         id  created_at  retweet_count  original_author  \\\n",
            "0       1386694264550270000  2021-04-26            0.0  jfd4humanrights   \n",
            "1       1386694260213170000  2021-04-26            0.0      andgrateful   \n",
            "2       1386694256413320000  2021-04-26          252.0       jlreader8B   \n",
            "3       1386694252017630000  2021-04-26            2.0    ijennychauhan   \n",
            "4       1386694248284700000  2021-04-26         7937.0      IJNSJournal   \n",
            "...                     ...         ...            ...              ...   \n",
            "125149  1404540000000000000  2021-06-14            0.0          MarEthr   \n",
            "125150  1404540000000000000  2021-06-14            1.0    stewart_geoff   \n",
            "125151  1404540000000000000  2021-06-14            0.0      edmontonspc   \n",
            "125152  1404540000000000000  2021-06-14            0.0      drsachinips   \n",
            "125153  1404540000000000000  2021-06-14         1372.0           sltrib   \n",
            "\n",
            "                            place  \\\n",
            "0                         Alabama   \n",
            "1                             NaN   \n",
            "2                             NaN   \n",
            "3                             NaN   \n",
            "4                              UK   \n",
            "...                           ...   \n",
            "125149                              \n",
            "125150                        NaN   \n",
            "125151  Edmonton, Alberta, Canada   \n",
            "125152                  New Delhi   \n",
            "125153       Salt Lake City, Utah   \n",
            "\n",
            "                                              clean_tweet  \n",
            "0        work close indian govern rapidli deploy addit...  \n",
            "1       flip flop fauci admit outdoor covid19 transmis...  \n",
            "2       hi twitter tim man white hous covid19 suppli c...  \n",
            "3       pray countri battl worst surg world wit let ir...  \n",
            "4       rapid invest nurs strengthen global covid19 re...  \n",
            "...                                                   ...  \n",
            "125149                                                NaN  \n",
            "125150  vaccin ramp mani social distanc guidelin remai...  \n",
            "125151  latest blog post volunt nicol sobu talk impact...  \n",
            "125152  weekend alert vigil pcr staff recov two wheele...  \n",
            "125153                                                mil  \n",
            "\n",
            "[125154 rows x 6 columns]\n"
          ]
        }
      ]
    },
    {
      "cell_type": "code",
      "source": [
        "# Step 5: Download the preprocessed CSV file\n",
        "from google.colab import files\n",
        "files.download('tweets_Data_WFH.csv')"
      ],
      "metadata": {
        "colab": {
          "base_uri": "https://localhost:8080/",
          "height": 17
        },
        "id": "zc3zhjDoD_Wz",
        "outputId": "5fe70fc7-39eb-4ae6-b25b-585330bb8496"
      },
      "execution_count": 59,
      "outputs": [
        {
          "output_type": "display_data",
          "data": {
            "text/plain": [
              "<IPython.core.display.Javascript object>"
            ],
            "application/javascript": [
              "\n",
              "    async function download(id, filename, size) {\n",
              "      if (!google.colab.kernel.accessAllowed) {\n",
              "        return;\n",
              "      }\n",
              "      const div = document.createElement('div');\n",
              "      const label = document.createElement('label');\n",
              "      label.textContent = `Downloading \"${filename}\": `;\n",
              "      div.appendChild(label);\n",
              "      const progress = document.createElement('progress');\n",
              "      progress.max = size;\n",
              "      div.appendChild(progress);\n",
              "      document.body.appendChild(div);\n",
              "\n",
              "      const buffers = [];\n",
              "      let downloaded = 0;\n",
              "\n",
              "      const channel = await google.colab.kernel.comms.open(id);\n",
              "      // Send a message to notify the kernel that we're ready.\n",
              "      channel.send({})\n",
              "\n",
              "      for await (const message of channel.messages) {\n",
              "        // Send a message to notify the kernel that we're ready.\n",
              "        channel.send({})\n",
              "        if (message.buffers) {\n",
              "          for (const buffer of message.buffers) {\n",
              "            buffers.push(buffer);\n",
              "            downloaded += buffer.byteLength;\n",
              "            progress.value = downloaded;\n",
              "          }\n",
              "        }\n",
              "      }\n",
              "      const blob = new Blob(buffers, {type: 'application/binary'});\n",
              "      const a = document.createElement('a');\n",
              "      a.href = window.URL.createObjectURL(blob);\n",
              "      a.download = filename;\n",
              "      div.appendChild(a);\n",
              "      a.click();\n",
              "      div.remove();\n",
              "    }\n",
              "  "
            ]
          },
          "metadata": {}
        },
        {
          "output_type": "display_data",
          "data": {
            "text/plain": [
              "<IPython.core.display.Javascript object>"
            ],
            "application/javascript": [
              "download(\"download_dba2405e-9dfd-4c72-99e6-401c2b189a8b\", \"tweets_Data_WFH.csv\", 15087988)"
            ]
          },
          "metadata": {}
        }
      ]
    },
    {
      "cell_type": "code",
      "source": [
        "\n",
        "# Step 2: Load the CSV data\n",
        "df = pd.read_csv('/content/tweets_Data_WFH.csv')\n",
        "\n",
        "# Step 3: Preprocess the data\n",
        "df = df[['id', 'created_at', 'retweet_count', 'original_author', 'place', 'clean_tweet']]\n",
        "# Perform data cleaning and preprocessing steps here\n",
        "\n",
        "\n"
      ],
      "metadata": {
        "id": "G9gvmqxdrRAs"
      },
      "execution_count": 70,
      "outputs": []
    },
    {
      "cell_type": "code",
      "source": [
        "print(df)"
      ],
      "metadata": {
        "colab": {
          "base_uri": "https://localhost:8080/",
          "height": 0
        },
        "id": "PhOx1H1uFFwU",
        "outputId": "91549604-afc2-475f-b84c-769531d5e59f"
      },
      "execution_count": 61,
      "outputs": [
        {
          "output_type": "stream",
          "name": "stdout",
          "text": [
            "                         id  created_at  retweet_count  original_author  \\\n",
            "0       1386694264550270000  2023-04-26            0.0  jfd4humanrights   \n",
            "1       1386694260213170000  2023-04-26            0.0      andgrateful   \n",
            "2       1386694256413320000  2023-04-26          252.0       jlreader8B   \n",
            "3       1386694252017630000  2023-04-26            2.0    ijennychauhan   \n",
            "4       1386694248284700000  2023-04-26         7937.0      IJNSJournal   \n",
            "...                     ...         ...            ...              ...   \n",
            "125149  1404540000000000000  2023-05-31            0.0          MarEthr   \n",
            "125150  1404540000000000000  2023-05-31            1.0    stewart_geoff   \n",
            "125151  1404540000000000000  2023-05-31            0.0      edmontonspc   \n",
            "125152  1404540000000000000  2023-05-31            0.0      drsachinips   \n",
            "125153  1404540000000000000  2023-05-31         1372.0           sltrib   \n",
            "\n",
            "                            place  \\\n",
            "0                         Alabama   \n",
            "1                             NaN   \n",
            "2                             NaN   \n",
            "3                             NaN   \n",
            "4                              UK   \n",
            "...                           ...   \n",
            "125149                              \n",
            "125150                        NaN   \n",
            "125151  Edmonton, Alberta, Canada   \n",
            "125152                  New Delhi   \n",
            "125153       Salt Lake City, Utah   \n",
            "\n",
            "                                              clean_tweet  \n",
            "0        work close indian govern rapidli deploy addit...  \n",
            "1       flip flop fauci admit outdoor covid19 transmis...  \n",
            "2       hi twitter tim man white hous covid19 suppli c...  \n",
            "3       pray countri battl worst surg world wit let ir...  \n",
            "4       rapid invest nurs strengthen global covid19 re...  \n",
            "...                                                   ...  \n",
            "125149                                                NaN  \n",
            "125150  vaccin ramp mani social distanc guidelin remai...  \n",
            "125151  latest blog post volunt nicol sobu talk impact...  \n",
            "125152  weekend alert vigil pcr staff recov two wheele...  \n",
            "125153                                                mil  \n",
            "\n",
            "[125154 rows x 6 columns]\n"
          ]
        }
      ]
    },
    {
      "cell_type": "code",
      "source": [
        "df = df.rename(columns={'original_author': 'username'})"
      ],
      "metadata": {
        "id": "vgc12x-SFF9s"
      },
      "execution_count": 71,
      "outputs": []
    },
    {
      "cell_type": "code",
      "source": [
        "\n",
        "df = df.rename(columns={'place':'location'})\n",
        "df = df.rename(columns={'clean_tweet':'clean_tweets'})\n",
        "df = df.rename(columns={'created_at':'create_date'})\n"
      ],
      "metadata": {
        "id": "LRmkc2VTFGER"
      },
      "execution_count": 72,
      "outputs": []
    },
    {
      "cell_type": "code",
      "source": [
        "print(df)"
      ],
      "metadata": {
        "colab": {
          "base_uri": "https://localhost:8080/",
          "height": 0
        },
        "id": "af6aK0vHGQRN",
        "outputId": "afa84a94-9fa2-4571-907c-dfa3e9fc158b"
      },
      "execution_count": 73,
      "outputs": [
        {
          "output_type": "stream",
          "name": "stdout",
          "text": [
            "                         id create_date  retweet_count         username  \\\n",
            "0       1386694264550270000  2023-04-26            0.0  jfd4humanrights   \n",
            "1       1386694260213170000  2023-04-26            0.0      andgrateful   \n",
            "2       1386694256413320000  2023-04-26          252.0       jlreader8B   \n",
            "3       1386694252017630000  2023-04-26            2.0    ijennychauhan   \n",
            "4       1386694248284700000  2023-04-26         7937.0      IJNSJournal   \n",
            "...                     ...         ...            ...              ...   \n",
            "125149  1404540000000000000  2023-05-31            0.0          MarEthr   \n",
            "125150  1404540000000000000  2023-05-31            1.0    stewart_geoff   \n",
            "125151  1404540000000000000  2023-05-31            0.0      edmontonspc   \n",
            "125152  1404540000000000000  2023-05-31            0.0      drsachinips   \n",
            "125153  1404540000000000000  2023-05-31         1372.0           sltrib   \n",
            "\n",
            "                         location  \\\n",
            "0                         Alabama   \n",
            "1                             NaN   \n",
            "2                             NaN   \n",
            "3                             NaN   \n",
            "4                              UK   \n",
            "...                           ...   \n",
            "125149                              \n",
            "125150                        NaN   \n",
            "125151  Edmonton, Alberta, Canada   \n",
            "125152                  New Delhi   \n",
            "125153       Salt Lake City, Utah   \n",
            "\n",
            "                                             clean_tweets  \n",
            "0        work close indian govern rapidli deploy addit...  \n",
            "1       flip flop fauci admit outdoor covid19 transmis...  \n",
            "2       hi twitter tim man white hous covid19 suppli c...  \n",
            "3       pray countri battl worst surg world wit let ir...  \n",
            "4       rapid invest nurs strengthen global covid19 re...  \n",
            "...                                                   ...  \n",
            "125149                                                NaN  \n",
            "125150  vaccin ramp mani social distanc guidelin remai...  \n",
            "125151  latest blog post volunt nicol sobu talk impact...  \n",
            "125152  weekend alert vigil pcr staff recov two wheele...  \n",
            "125153                                                mil  \n",
            "\n",
            "[125154 rows x 6 columns]\n"
          ]
        }
      ]
    },
    {
      "cell_type": "code",
      "source": [
        "df = df[['id', 'create_date','username', 'location', 'clean_tweets']]"
      ],
      "metadata": {
        "id": "pxxUnbn1GXU4"
      },
      "execution_count": 74,
      "outputs": []
    },
    {
      "cell_type": "code",
      "source": [
        "df.head()\n"
      ],
      "metadata": {
        "colab": {
          "base_uri": "https://localhost:8080/",
          "height": 206
        },
        "id": "INXMfHizGzzA",
        "outputId": "39cf0e3f-460c-4239-9432-615b36301b7a"
      },
      "execution_count": 75,
      "outputs": [
        {
          "output_type": "execute_result",
          "data": {
            "text/plain": [
              "                    id create_date         username location  \\\n",
              "0  1386694264550270000  2023-04-26  jfd4humanrights  Alabama   \n",
              "1  1386694260213170000  2023-04-26      andgrateful      NaN   \n",
              "2  1386694256413320000  2023-04-26       jlreader8B      NaN   \n",
              "3  1386694252017630000  2023-04-26    ijennychauhan      NaN   \n",
              "4  1386694248284700000  2023-04-26      IJNSJournal       UK   \n",
              "\n",
              "                                        clean_tweets  \n",
              "0   work close indian govern rapidli deploy addit...  \n",
              "1  flip flop fauci admit outdoor covid19 transmis...  \n",
              "2  hi twitter tim man white hous covid19 suppli c...  \n",
              "3  pray countri battl worst surg world wit let ir...  \n",
              "4  rapid invest nurs strengthen global covid19 re...  "
            ],
            "text/html": [
              "\n",
              "  <div id=\"df-890080fb-cf7a-4699-b244-0661baa7175f\">\n",
              "    <div class=\"colab-df-container\">\n",
              "      <div>\n",
              "<style scoped>\n",
              "    .dataframe tbody tr th:only-of-type {\n",
              "        vertical-align: middle;\n",
              "    }\n",
              "\n",
              "    .dataframe tbody tr th {\n",
              "        vertical-align: top;\n",
              "    }\n",
              "\n",
              "    .dataframe thead th {\n",
              "        text-align: right;\n",
              "    }\n",
              "</style>\n",
              "<table border=\"1\" class=\"dataframe\">\n",
              "  <thead>\n",
              "    <tr style=\"text-align: right;\">\n",
              "      <th></th>\n",
              "      <th>id</th>\n",
              "      <th>create_date</th>\n",
              "      <th>username</th>\n",
              "      <th>location</th>\n",
              "      <th>clean_tweets</th>\n",
              "    </tr>\n",
              "  </thead>\n",
              "  <tbody>\n",
              "    <tr>\n",
              "      <th>0</th>\n",
              "      <td>1386694264550270000</td>\n",
              "      <td>2023-04-26</td>\n",
              "      <td>jfd4humanrights</td>\n",
              "      <td>Alabama</td>\n",
              "      <td>work close indian govern rapidli deploy addit...</td>\n",
              "    </tr>\n",
              "    <tr>\n",
              "      <th>1</th>\n",
              "      <td>1386694260213170000</td>\n",
              "      <td>2023-04-26</td>\n",
              "      <td>andgrateful</td>\n",
              "      <td>NaN</td>\n",
              "      <td>flip flop fauci admit outdoor covid19 transmis...</td>\n",
              "    </tr>\n",
              "    <tr>\n",
              "      <th>2</th>\n",
              "      <td>1386694256413320000</td>\n",
              "      <td>2023-04-26</td>\n",
              "      <td>jlreader8B</td>\n",
              "      <td>NaN</td>\n",
              "      <td>hi twitter tim man white hous covid19 suppli c...</td>\n",
              "    </tr>\n",
              "    <tr>\n",
              "      <th>3</th>\n",
              "      <td>1386694252017630000</td>\n",
              "      <td>2023-04-26</td>\n",
              "      <td>ijennychauhan</td>\n",
              "      <td>NaN</td>\n",
              "      <td>pray countri battl worst surg world wit let ir...</td>\n",
              "    </tr>\n",
              "    <tr>\n",
              "      <th>4</th>\n",
              "      <td>1386694248284700000</td>\n",
              "      <td>2023-04-26</td>\n",
              "      <td>IJNSJournal</td>\n",
              "      <td>UK</td>\n",
              "      <td>rapid invest nurs strengthen global covid19 re...</td>\n",
              "    </tr>\n",
              "  </tbody>\n",
              "</table>\n",
              "</div>\n",
              "      <button class=\"colab-df-convert\" onclick=\"convertToInteractive('df-890080fb-cf7a-4699-b244-0661baa7175f')\"\n",
              "              title=\"Convert this dataframe to an interactive table.\"\n",
              "              style=\"display:none;\">\n",
              "        \n",
              "  <svg xmlns=\"http://www.w3.org/2000/svg\" height=\"24px\"viewBox=\"0 0 24 24\"\n",
              "       width=\"24px\">\n",
              "    <path d=\"M0 0h24v24H0V0z\" fill=\"none\"/>\n",
              "    <path d=\"M18.56 5.44l.94 2.06.94-2.06 2.06-.94-2.06-.94-.94-2.06-.94 2.06-2.06.94zm-11 1L8.5 8.5l.94-2.06 2.06-.94-2.06-.94L8.5 2.5l-.94 2.06-2.06.94zm10 10l.94 2.06.94-2.06 2.06-.94-2.06-.94-.94-2.06-.94 2.06-2.06.94z\"/><path d=\"M17.41 7.96l-1.37-1.37c-.4-.4-.92-.59-1.43-.59-.52 0-1.04.2-1.43.59L10.3 9.45l-7.72 7.72c-.78.78-.78 2.05 0 2.83L4 21.41c.39.39.9.59 1.41.59.51 0 1.02-.2 1.41-.59l7.78-7.78 2.81-2.81c.8-.78.8-2.07 0-2.86zM5.41 20L4 18.59l7.72-7.72 1.47 1.35L5.41 20z\"/>\n",
              "  </svg>\n",
              "      </button>\n",
              "      \n",
              "  <style>\n",
              "    .colab-df-container {\n",
              "      display:flex;\n",
              "      flex-wrap:wrap;\n",
              "      gap: 12px;\n",
              "    }\n",
              "\n",
              "    .colab-df-convert {\n",
              "      background-color: #E8F0FE;\n",
              "      border: none;\n",
              "      border-radius: 50%;\n",
              "      cursor: pointer;\n",
              "      display: none;\n",
              "      fill: #1967D2;\n",
              "      height: 32px;\n",
              "      padding: 0 0 0 0;\n",
              "      width: 32px;\n",
              "    }\n",
              "\n",
              "    .colab-df-convert:hover {\n",
              "      background-color: #E2EBFA;\n",
              "      box-shadow: 0px 1px 2px rgba(60, 64, 67, 0.3), 0px 1px 3px 1px rgba(60, 64, 67, 0.15);\n",
              "      fill: #174EA6;\n",
              "    }\n",
              "\n",
              "    [theme=dark] .colab-df-convert {\n",
              "      background-color: #3B4455;\n",
              "      fill: #D2E3FC;\n",
              "    }\n",
              "\n",
              "    [theme=dark] .colab-df-convert:hover {\n",
              "      background-color: #434B5C;\n",
              "      box-shadow: 0px 1px 3px 1px rgba(0, 0, 0, 0.15);\n",
              "      filter: drop-shadow(0px 1px 2px rgba(0, 0, 0, 0.3));\n",
              "      fill: #FFFFFF;\n",
              "    }\n",
              "  </style>\n",
              "\n",
              "      <script>\n",
              "        const buttonEl =\n",
              "          document.querySelector('#df-890080fb-cf7a-4699-b244-0661baa7175f button.colab-df-convert');\n",
              "        buttonEl.style.display =\n",
              "          google.colab.kernel.accessAllowed ? 'block' : 'none';\n",
              "\n",
              "        async function convertToInteractive(key) {\n",
              "          const element = document.querySelector('#df-890080fb-cf7a-4699-b244-0661baa7175f');\n",
              "          const dataTable =\n",
              "            await google.colab.kernel.invokeFunction('convertToInteractive',\n",
              "                                                     [key], {});\n",
              "          if (!dataTable) return;\n",
              "\n",
              "          const docLinkHtml = 'Like what you see? Visit the ' +\n",
              "            '<a target=\"_blank\" href=https://colab.research.google.com/notebooks/data_table.ipynb>data table notebook</a>'\n",
              "            + ' to learn more about interactive tables.';\n",
              "          element.innerHTML = '';\n",
              "          dataTable['output_type'] = 'display_data';\n",
              "          await google.colab.output.renderOutput(dataTable, element);\n",
              "          const docLink = document.createElement('div');\n",
              "          docLink.innerHTML = docLinkHtml;\n",
              "          element.appendChild(docLink);\n",
              "        }\n",
              "      </script>\n",
              "    </div>\n",
              "  </div>\n",
              "  "
            ]
          },
          "metadata": {},
          "execution_count": 75
        }
      ]
    },
    {
      "cell_type": "code",
      "source": [
        "df.tail()"
      ],
      "metadata": {
        "colab": {
          "base_uri": "https://localhost:8080/",
          "height": 206
        },
        "id": "OsBmxw45HOEK",
        "outputId": "4a3dca8f-0b1b-4f24-f383-b8ae249f5f53"
      },
      "execution_count": 76,
      "outputs": [
        {
          "output_type": "execute_result",
          "data": {
            "text/plain": [
              "                         id create_date       username  \\\n",
              "125149  1404540000000000000  2023-05-31        MarEthr   \n",
              "125150  1404540000000000000  2023-05-31  stewart_geoff   \n",
              "125151  1404540000000000000  2023-05-31    edmontonspc   \n",
              "125152  1404540000000000000  2023-05-31    drsachinips   \n",
              "125153  1404540000000000000  2023-05-31         sltrib   \n",
              "\n",
              "                         location  \\\n",
              "125149                              \n",
              "125150                        NaN   \n",
              "125151  Edmonton, Alberta, Canada   \n",
              "125152                  New Delhi   \n",
              "125153       Salt Lake City, Utah   \n",
              "\n",
              "                                             clean_tweets  \n",
              "125149                                                NaN  \n",
              "125150  vaccin ramp mani social distanc guidelin remai...  \n",
              "125151  latest blog post volunt nicol sobu talk impact...  \n",
              "125152  weekend alert vigil pcr staff recov two wheele...  \n",
              "125153                                                mil  "
            ],
            "text/html": [
              "\n",
              "  <div id=\"df-47671e83-cd6a-4c0f-9f67-98162df6ec75\">\n",
              "    <div class=\"colab-df-container\">\n",
              "      <div>\n",
              "<style scoped>\n",
              "    .dataframe tbody tr th:only-of-type {\n",
              "        vertical-align: middle;\n",
              "    }\n",
              "\n",
              "    .dataframe tbody tr th {\n",
              "        vertical-align: top;\n",
              "    }\n",
              "\n",
              "    .dataframe thead th {\n",
              "        text-align: right;\n",
              "    }\n",
              "</style>\n",
              "<table border=\"1\" class=\"dataframe\">\n",
              "  <thead>\n",
              "    <tr style=\"text-align: right;\">\n",
              "      <th></th>\n",
              "      <th>id</th>\n",
              "      <th>create_date</th>\n",
              "      <th>username</th>\n",
              "      <th>location</th>\n",
              "      <th>clean_tweets</th>\n",
              "    </tr>\n",
              "  </thead>\n",
              "  <tbody>\n",
              "    <tr>\n",
              "      <th>125149</th>\n",
              "      <td>1404540000000000000</td>\n",
              "      <td>2023-05-31</td>\n",
              "      <td>MarEthr</td>\n",
              "      <td></td>\n",
              "      <td>NaN</td>\n",
              "    </tr>\n",
              "    <tr>\n",
              "      <th>125150</th>\n",
              "      <td>1404540000000000000</td>\n",
              "      <td>2023-05-31</td>\n",
              "      <td>stewart_geoff</td>\n",
              "      <td>NaN</td>\n",
              "      <td>vaccin ramp mani social distanc guidelin remai...</td>\n",
              "    </tr>\n",
              "    <tr>\n",
              "      <th>125151</th>\n",
              "      <td>1404540000000000000</td>\n",
              "      <td>2023-05-31</td>\n",
              "      <td>edmontonspc</td>\n",
              "      <td>Edmonton, Alberta, Canada</td>\n",
              "      <td>latest blog post volunt nicol sobu talk impact...</td>\n",
              "    </tr>\n",
              "    <tr>\n",
              "      <th>125152</th>\n",
              "      <td>1404540000000000000</td>\n",
              "      <td>2023-05-31</td>\n",
              "      <td>drsachinips</td>\n",
              "      <td>New Delhi</td>\n",
              "      <td>weekend alert vigil pcr staff recov two wheele...</td>\n",
              "    </tr>\n",
              "    <tr>\n",
              "      <th>125153</th>\n",
              "      <td>1404540000000000000</td>\n",
              "      <td>2023-05-31</td>\n",
              "      <td>sltrib</td>\n",
              "      <td>Salt Lake City, Utah</td>\n",
              "      <td>mil</td>\n",
              "    </tr>\n",
              "  </tbody>\n",
              "</table>\n",
              "</div>\n",
              "      <button class=\"colab-df-convert\" onclick=\"convertToInteractive('df-47671e83-cd6a-4c0f-9f67-98162df6ec75')\"\n",
              "              title=\"Convert this dataframe to an interactive table.\"\n",
              "              style=\"display:none;\">\n",
              "        \n",
              "  <svg xmlns=\"http://www.w3.org/2000/svg\" height=\"24px\"viewBox=\"0 0 24 24\"\n",
              "       width=\"24px\">\n",
              "    <path d=\"M0 0h24v24H0V0z\" fill=\"none\"/>\n",
              "    <path d=\"M18.56 5.44l.94 2.06.94-2.06 2.06-.94-2.06-.94-.94-2.06-.94 2.06-2.06.94zm-11 1L8.5 8.5l.94-2.06 2.06-.94-2.06-.94L8.5 2.5l-.94 2.06-2.06.94zm10 10l.94 2.06.94-2.06 2.06-.94-2.06-.94-.94-2.06-.94 2.06-2.06.94z\"/><path d=\"M17.41 7.96l-1.37-1.37c-.4-.4-.92-.59-1.43-.59-.52 0-1.04.2-1.43.59L10.3 9.45l-7.72 7.72c-.78.78-.78 2.05 0 2.83L4 21.41c.39.39.9.59 1.41.59.51 0 1.02-.2 1.41-.59l7.78-7.78 2.81-2.81c.8-.78.8-2.07 0-2.86zM5.41 20L4 18.59l7.72-7.72 1.47 1.35L5.41 20z\"/>\n",
              "  </svg>\n",
              "      </button>\n",
              "      \n",
              "  <style>\n",
              "    .colab-df-container {\n",
              "      display:flex;\n",
              "      flex-wrap:wrap;\n",
              "      gap: 12px;\n",
              "    }\n",
              "\n",
              "    .colab-df-convert {\n",
              "      background-color: #E8F0FE;\n",
              "      border: none;\n",
              "      border-radius: 50%;\n",
              "      cursor: pointer;\n",
              "      display: none;\n",
              "      fill: #1967D2;\n",
              "      height: 32px;\n",
              "      padding: 0 0 0 0;\n",
              "      width: 32px;\n",
              "    }\n",
              "\n",
              "    .colab-df-convert:hover {\n",
              "      background-color: #E2EBFA;\n",
              "      box-shadow: 0px 1px 2px rgba(60, 64, 67, 0.3), 0px 1px 3px 1px rgba(60, 64, 67, 0.15);\n",
              "      fill: #174EA6;\n",
              "    }\n",
              "\n",
              "    [theme=dark] .colab-df-convert {\n",
              "      background-color: #3B4455;\n",
              "      fill: #D2E3FC;\n",
              "    }\n",
              "\n",
              "    [theme=dark] .colab-df-convert:hover {\n",
              "      background-color: #434B5C;\n",
              "      box-shadow: 0px 1px 3px 1px rgba(0, 0, 0, 0.15);\n",
              "      filter: drop-shadow(0px 1px 2px rgba(0, 0, 0, 0.3));\n",
              "      fill: #FFFFFF;\n",
              "    }\n",
              "  </style>\n",
              "\n",
              "      <script>\n",
              "        const buttonEl =\n",
              "          document.querySelector('#df-47671e83-cd6a-4c0f-9f67-98162df6ec75 button.colab-df-convert');\n",
              "        buttonEl.style.display =\n",
              "          google.colab.kernel.accessAllowed ? 'block' : 'none';\n",
              "\n",
              "        async function convertToInteractive(key) {\n",
              "          const element = document.querySelector('#df-47671e83-cd6a-4c0f-9f67-98162df6ec75');\n",
              "          const dataTable =\n",
              "            await google.colab.kernel.invokeFunction('convertToInteractive',\n",
              "                                                     [key], {});\n",
              "          if (!dataTable) return;\n",
              "\n",
              "          const docLinkHtml = 'Like what you see? Visit the ' +\n",
              "            '<a target=\"_blank\" href=https://colab.research.google.com/notebooks/data_table.ipynb>data table notebook</a>'\n",
              "            + ' to learn more about interactive tables.';\n",
              "          element.innerHTML = '';\n",
              "          dataTable['output_type'] = 'display_data';\n",
              "          await google.colab.output.renderOutput(dataTable, element);\n",
              "          const docLink = document.createElement('div');\n",
              "          docLink.innerHTML = docLinkHtml;\n",
              "          element.appendChild(docLink);\n",
              "        }\n",
              "      </script>\n",
              "    </div>\n",
              "  </div>\n",
              "  "
            ]
          },
          "metadata": {},
          "execution_count": 76
        }
      ]
    },
    {
      "cell_type": "code",
      "source": [
        "# Filter the DataFrame to extract work-from-home related tweets\n",
        "work_from_home_keywords = ['work from home', 'remote work', 'WFH','remote','workfromhome']\n",
        "work_from_home_tweets = df[df['clean_tweets'].notna() & df['clean_tweets'].str.contains('|'.join(work_from_home_keywords), case=False)]\n",
        "\n",
        "# Print the extracted work-from-home tweets\n",
        "print(work_from_home_tweets['clean_tweets'])\n"
      ],
      "metadata": {
        "colab": {
          "base_uri": "https://localhost:8080/",
          "height": 0
        },
        "id": "ZAdfQSMEIAzm",
        "outputId": "45a877a2-5a0c-4134-ed42-2240a253eeb8"
      },
      "execution_count": 43,
      "outputs": [
        {
          "output_type": "stream",
          "name": "stdout",
          "text": [
            "5749        covid19 wfh prompt spike cyberattack bank insur\n",
            "6399        covid19 wfh prompt spike cyberattack bank insur\n",
            "14584     covid19 engulf countri mani industri embrac wf...\n",
            "20473     stori time financi servic firm kl face covid19...\n",
            "25551     previous apart call height la ye last year cha...\n",
            "36033          work home concept arriv wfh becom part everi\n",
            "47421       challeng day remotest possibl wash hand regular\n",
            "58689     covid19 disrupt lot game develop cycl major st...\n",
            "68617     peopl benefit pkp non medic govern staff get w...\n",
            "94033     realli feel privileg today need commut year wf...\n",
            "103438          tip get screen time control even wfh pandem\n",
            "112955    brit could save hour commut per year post peop...\n",
            "Name: clean_tweets, dtype: object\n"
          ]
        }
      ]
    },
    {
      "cell_type": "code",
      "source": [
        "print(work_from_home_tweets)"
      ],
      "metadata": {
        "colab": {
          "base_uri": "https://localhost:8080/",
          "height": 0
        },
        "id": "j18dXILdLiCx",
        "outputId": "703cf918-4279-4a0a-c3d1-f62481f93510"
      },
      "execution_count": 44,
      "outputs": [
        {
          "output_type": "stream",
          "name": "stdout",
          "text": [
            "                         id create_date        username  \\\n",
            "5749    1387307224641380000  2023-04-28  EsseISolutions   \n",
            "6399    1387321028070700000  2023-04-28   shehzadyounis   \n",
            "14584   1389520532975060000  2023-05-04  Gauravdubey023   \n",
            "20473   1390659110320820000  2023-05-07        adiannet   \n",
            "25551   1391049344120280000  2023-05-08         erode14   \n",
            "36033   1393204487280630000  2023-05-31     VacoOrlando   \n",
            "47421   1395055223727600000  2023-05-19     Emeka_Ojoko   \n",
            "58689   1397220206175570000  2023-05-25      Midlayf167   \n",
            "68617   1397842345949720000  2023-05-27     meforevermy   \n",
            "94033   1400510000000000000  2023-05-03        LAW_hite   \n",
            "103438  1401960000000000000  2023-05-07       AccessOBC   \n",
            "112955  1403270000000000000  2023-05-11  johnyoungmedia   \n",
            "\n",
            "                      location  \\\n",
            "5749                       NaN   \n",
            "6399                 Thinkstan   \n",
            "14584                      NaN   \n",
            "20473           Seri Kembangan   \n",
            "25551                  Chennai   \n",
            "36033              Orlando, FL   \n",
            "47421   Port Harcourt, Nigeria   \n",
            "58689            Quelques part   \n",
            "68617                      NaN   \n",
            "94033                   London   \n",
            "103438             Raleigh, NC   \n",
            "112955    Brighton, Sussex, UK   \n",
            "\n",
            "                                             clean_tweets  \n",
            "5749      covid19 wfh prompt spike cyberattack bank insur  \n",
            "6399      covid19 wfh prompt spike cyberattack bank insur  \n",
            "14584   covid19 engulf countri mani industri embrac wf...  \n",
            "20473   stori time financi servic firm kl face covid19...  \n",
            "25551   previous apart call height la ye last year cha...  \n",
            "36033        work home concept arriv wfh becom part everi  \n",
            "47421     challeng day remotest possibl wash hand regular  \n",
            "58689   covid19 disrupt lot game develop cycl major st...  \n",
            "68617   peopl benefit pkp non medic govern staff get w...  \n",
            "94033   realli feel privileg today need commut year wf...  \n",
            "103438        tip get screen time control even wfh pandem  \n",
            "112955  brit could save hour commut per year post peop...  \n"
          ]
        }
      ]
    },
    {
      "cell_type": "code",
      "source": [
        "work_from_home_tweets.head()"
      ],
      "metadata": {
        "colab": {
          "base_uri": "https://localhost:8080/",
          "height": 206
        },
        "id": "HVGbgUZHLpzb",
        "outputId": "b9e31c34-612d-4b4c-8459-b708cac97b6f"
      },
      "execution_count": 45,
      "outputs": [
        {
          "output_type": "execute_result",
          "data": {
            "text/plain": [
              "                        id create_date        username        location  \\\n",
              "5749   1387307224641380000  2023-04-28  EsseISolutions             NaN   \n",
              "6399   1387321028070700000  2023-04-28   shehzadyounis       Thinkstan   \n",
              "14584  1389520532975060000  2023-05-04  Gauravdubey023             NaN   \n",
              "20473  1390659110320820000  2023-05-07        adiannet  Seri Kembangan   \n",
              "25551  1391049344120280000  2023-05-08         erode14         Chennai   \n",
              "\n",
              "                                            clean_tweets  \n",
              "5749     covid19 wfh prompt spike cyberattack bank insur  \n",
              "6399     covid19 wfh prompt spike cyberattack bank insur  \n",
              "14584  covid19 engulf countri mani industri embrac wf...  \n",
              "20473  stori time financi servic firm kl face covid19...  \n",
              "25551  previous apart call height la ye last year cha...  "
            ],
            "text/html": [
              "\n",
              "  <div id=\"df-ea18c8e8-cde9-4cac-b5e7-b254ab11bb67\">\n",
              "    <div class=\"colab-df-container\">\n",
              "      <div>\n",
              "<style scoped>\n",
              "    .dataframe tbody tr th:only-of-type {\n",
              "        vertical-align: middle;\n",
              "    }\n",
              "\n",
              "    .dataframe tbody tr th {\n",
              "        vertical-align: top;\n",
              "    }\n",
              "\n",
              "    .dataframe thead th {\n",
              "        text-align: right;\n",
              "    }\n",
              "</style>\n",
              "<table border=\"1\" class=\"dataframe\">\n",
              "  <thead>\n",
              "    <tr style=\"text-align: right;\">\n",
              "      <th></th>\n",
              "      <th>id</th>\n",
              "      <th>create_date</th>\n",
              "      <th>username</th>\n",
              "      <th>location</th>\n",
              "      <th>clean_tweets</th>\n",
              "    </tr>\n",
              "  </thead>\n",
              "  <tbody>\n",
              "    <tr>\n",
              "      <th>5749</th>\n",
              "      <td>1387307224641380000</td>\n",
              "      <td>2023-04-28</td>\n",
              "      <td>EsseISolutions</td>\n",
              "      <td>NaN</td>\n",
              "      <td>covid19 wfh prompt spike cyberattack bank insur</td>\n",
              "    </tr>\n",
              "    <tr>\n",
              "      <th>6399</th>\n",
              "      <td>1387321028070700000</td>\n",
              "      <td>2023-04-28</td>\n",
              "      <td>shehzadyounis</td>\n",
              "      <td>Thinkstan</td>\n",
              "      <td>covid19 wfh prompt spike cyberattack bank insur</td>\n",
              "    </tr>\n",
              "    <tr>\n",
              "      <th>14584</th>\n",
              "      <td>1389520532975060000</td>\n",
              "      <td>2023-05-04</td>\n",
              "      <td>Gauravdubey023</td>\n",
              "      <td>NaN</td>\n",
              "      <td>covid19 engulf countri mani industri embrac wf...</td>\n",
              "    </tr>\n",
              "    <tr>\n",
              "      <th>20473</th>\n",
              "      <td>1390659110320820000</td>\n",
              "      <td>2023-05-07</td>\n",
              "      <td>adiannet</td>\n",
              "      <td>Seri Kembangan</td>\n",
              "      <td>stori time financi servic firm kl face covid19...</td>\n",
              "    </tr>\n",
              "    <tr>\n",
              "      <th>25551</th>\n",
              "      <td>1391049344120280000</td>\n",
              "      <td>2023-05-08</td>\n",
              "      <td>erode14</td>\n",
              "      <td>Chennai</td>\n",
              "      <td>previous apart call height la ye last year cha...</td>\n",
              "    </tr>\n",
              "  </tbody>\n",
              "</table>\n",
              "</div>\n",
              "      <button class=\"colab-df-convert\" onclick=\"convertToInteractive('df-ea18c8e8-cde9-4cac-b5e7-b254ab11bb67')\"\n",
              "              title=\"Convert this dataframe to an interactive table.\"\n",
              "              style=\"display:none;\">\n",
              "        \n",
              "  <svg xmlns=\"http://www.w3.org/2000/svg\" height=\"24px\"viewBox=\"0 0 24 24\"\n",
              "       width=\"24px\">\n",
              "    <path d=\"M0 0h24v24H0V0z\" fill=\"none\"/>\n",
              "    <path d=\"M18.56 5.44l.94 2.06.94-2.06 2.06-.94-2.06-.94-.94-2.06-.94 2.06-2.06.94zm-11 1L8.5 8.5l.94-2.06 2.06-.94-2.06-.94L8.5 2.5l-.94 2.06-2.06.94zm10 10l.94 2.06.94-2.06 2.06-.94-2.06-.94-.94-2.06-.94 2.06-2.06.94z\"/><path d=\"M17.41 7.96l-1.37-1.37c-.4-.4-.92-.59-1.43-.59-.52 0-1.04.2-1.43.59L10.3 9.45l-7.72 7.72c-.78.78-.78 2.05 0 2.83L4 21.41c.39.39.9.59 1.41.59.51 0 1.02-.2 1.41-.59l7.78-7.78 2.81-2.81c.8-.78.8-2.07 0-2.86zM5.41 20L4 18.59l7.72-7.72 1.47 1.35L5.41 20z\"/>\n",
              "  </svg>\n",
              "      </button>\n",
              "      \n",
              "  <style>\n",
              "    .colab-df-container {\n",
              "      display:flex;\n",
              "      flex-wrap:wrap;\n",
              "      gap: 12px;\n",
              "    }\n",
              "\n",
              "    .colab-df-convert {\n",
              "      background-color: #E8F0FE;\n",
              "      border: none;\n",
              "      border-radius: 50%;\n",
              "      cursor: pointer;\n",
              "      display: none;\n",
              "      fill: #1967D2;\n",
              "      height: 32px;\n",
              "      padding: 0 0 0 0;\n",
              "      width: 32px;\n",
              "    }\n",
              "\n",
              "    .colab-df-convert:hover {\n",
              "      background-color: #E2EBFA;\n",
              "      box-shadow: 0px 1px 2px rgba(60, 64, 67, 0.3), 0px 1px 3px 1px rgba(60, 64, 67, 0.15);\n",
              "      fill: #174EA6;\n",
              "    }\n",
              "\n",
              "    [theme=dark] .colab-df-convert {\n",
              "      background-color: #3B4455;\n",
              "      fill: #D2E3FC;\n",
              "    }\n",
              "\n",
              "    [theme=dark] .colab-df-convert:hover {\n",
              "      background-color: #434B5C;\n",
              "      box-shadow: 0px 1px 3px 1px rgba(0, 0, 0, 0.15);\n",
              "      filter: drop-shadow(0px 1px 2px rgba(0, 0, 0, 0.3));\n",
              "      fill: #FFFFFF;\n",
              "    }\n",
              "  </style>\n",
              "\n",
              "      <script>\n",
              "        const buttonEl =\n",
              "          document.querySelector('#df-ea18c8e8-cde9-4cac-b5e7-b254ab11bb67 button.colab-df-convert');\n",
              "        buttonEl.style.display =\n",
              "          google.colab.kernel.accessAllowed ? 'block' : 'none';\n",
              "\n",
              "        async function convertToInteractive(key) {\n",
              "          const element = document.querySelector('#df-ea18c8e8-cde9-4cac-b5e7-b254ab11bb67');\n",
              "          const dataTable =\n",
              "            await google.colab.kernel.invokeFunction('convertToInteractive',\n",
              "                                                     [key], {});\n",
              "          if (!dataTable) return;\n",
              "\n",
              "          const docLinkHtml = 'Like what you see? Visit the ' +\n",
              "            '<a target=\"_blank\" href=https://colab.research.google.com/notebooks/data_table.ipynb>data table notebook</a>'\n",
              "            + ' to learn more about interactive tables.';\n",
              "          element.innerHTML = '';\n",
              "          dataTable['output_type'] = 'display_data';\n",
              "          await google.colab.output.renderOutput(dataTable, element);\n",
              "          const docLink = document.createElement('div');\n",
              "          docLink.innerHTML = docLinkHtml;\n",
              "          element.appendChild(docLink);\n",
              "        }\n",
              "      </script>\n",
              "    </div>\n",
              "  </div>\n",
              "  "
            ]
          },
          "metadata": {},
          "execution_count": 45
        }
      ]
    },
    {
      "cell_type": "code",
      "source": [
        "work_from_home_tweets.tail()\n"
      ],
      "metadata": {
        "colab": {
          "base_uri": "https://localhost:8080/",
          "height": 206
        },
        "id": "zcquiPwiLxCl",
        "outputId": "de652923-016e-4d15-b7a5-16a7a815f8bf"
      },
      "execution_count": 46,
      "outputs": [
        {
          "output_type": "execute_result",
          "data": {
            "text/plain": [
              "                         id create_date        username              location  \\\n",
              "58689   1397220206175570000  2023-05-25      Midlayf167         Quelques part   \n",
              "68617   1397842345949720000  2023-05-27     meforevermy                   NaN   \n",
              "94033   1400510000000000000  2023-05-03        LAW_hite                London   \n",
              "103438  1401960000000000000  2023-05-07       AccessOBC           Raleigh, NC   \n",
              "112955  1403270000000000000  2023-05-11  johnyoungmedia  Brighton, Sussex, UK   \n",
              "\n",
              "                                             clean_tweets  \n",
              "58689   covid19 disrupt lot game develop cycl major st...  \n",
              "68617   peopl benefit pkp non medic govern staff get w...  \n",
              "94033   realli feel privileg today need commut year wf...  \n",
              "103438        tip get screen time control even wfh pandem  \n",
              "112955  brit could save hour commut per year post peop...  "
            ],
            "text/html": [
              "\n",
              "  <div id=\"df-c09ab030-1702-4c1b-978b-abcc97bd14da\">\n",
              "    <div class=\"colab-df-container\">\n",
              "      <div>\n",
              "<style scoped>\n",
              "    .dataframe tbody tr th:only-of-type {\n",
              "        vertical-align: middle;\n",
              "    }\n",
              "\n",
              "    .dataframe tbody tr th {\n",
              "        vertical-align: top;\n",
              "    }\n",
              "\n",
              "    .dataframe thead th {\n",
              "        text-align: right;\n",
              "    }\n",
              "</style>\n",
              "<table border=\"1\" class=\"dataframe\">\n",
              "  <thead>\n",
              "    <tr style=\"text-align: right;\">\n",
              "      <th></th>\n",
              "      <th>id</th>\n",
              "      <th>create_date</th>\n",
              "      <th>username</th>\n",
              "      <th>location</th>\n",
              "      <th>clean_tweets</th>\n",
              "    </tr>\n",
              "  </thead>\n",
              "  <tbody>\n",
              "    <tr>\n",
              "      <th>58689</th>\n",
              "      <td>1397220206175570000</td>\n",
              "      <td>2023-05-25</td>\n",
              "      <td>Midlayf167</td>\n",
              "      <td>Quelques part</td>\n",
              "      <td>covid19 disrupt lot game develop cycl major st...</td>\n",
              "    </tr>\n",
              "    <tr>\n",
              "      <th>68617</th>\n",
              "      <td>1397842345949720000</td>\n",
              "      <td>2023-05-27</td>\n",
              "      <td>meforevermy</td>\n",
              "      <td>NaN</td>\n",
              "      <td>peopl benefit pkp non medic govern staff get w...</td>\n",
              "    </tr>\n",
              "    <tr>\n",
              "      <th>94033</th>\n",
              "      <td>1400510000000000000</td>\n",
              "      <td>2023-05-03</td>\n",
              "      <td>LAW_hite</td>\n",
              "      <td>London</td>\n",
              "      <td>realli feel privileg today need commut year wf...</td>\n",
              "    </tr>\n",
              "    <tr>\n",
              "      <th>103438</th>\n",
              "      <td>1401960000000000000</td>\n",
              "      <td>2023-05-07</td>\n",
              "      <td>AccessOBC</td>\n",
              "      <td>Raleigh, NC</td>\n",
              "      <td>tip get screen time control even wfh pandem</td>\n",
              "    </tr>\n",
              "    <tr>\n",
              "      <th>112955</th>\n",
              "      <td>1403270000000000000</td>\n",
              "      <td>2023-05-11</td>\n",
              "      <td>johnyoungmedia</td>\n",
              "      <td>Brighton, Sussex, UK</td>\n",
              "      <td>brit could save hour commut per year post peop...</td>\n",
              "    </tr>\n",
              "  </tbody>\n",
              "</table>\n",
              "</div>\n",
              "      <button class=\"colab-df-convert\" onclick=\"convertToInteractive('df-c09ab030-1702-4c1b-978b-abcc97bd14da')\"\n",
              "              title=\"Convert this dataframe to an interactive table.\"\n",
              "              style=\"display:none;\">\n",
              "        \n",
              "  <svg xmlns=\"http://www.w3.org/2000/svg\" height=\"24px\"viewBox=\"0 0 24 24\"\n",
              "       width=\"24px\">\n",
              "    <path d=\"M0 0h24v24H0V0z\" fill=\"none\"/>\n",
              "    <path d=\"M18.56 5.44l.94 2.06.94-2.06 2.06-.94-2.06-.94-.94-2.06-.94 2.06-2.06.94zm-11 1L8.5 8.5l.94-2.06 2.06-.94-2.06-.94L8.5 2.5l-.94 2.06-2.06.94zm10 10l.94 2.06.94-2.06 2.06-.94-2.06-.94-.94-2.06-.94 2.06-2.06.94z\"/><path d=\"M17.41 7.96l-1.37-1.37c-.4-.4-.92-.59-1.43-.59-.52 0-1.04.2-1.43.59L10.3 9.45l-7.72 7.72c-.78.78-.78 2.05 0 2.83L4 21.41c.39.39.9.59 1.41.59.51 0 1.02-.2 1.41-.59l7.78-7.78 2.81-2.81c.8-.78.8-2.07 0-2.86zM5.41 20L4 18.59l7.72-7.72 1.47 1.35L5.41 20z\"/>\n",
              "  </svg>\n",
              "      </button>\n",
              "      \n",
              "  <style>\n",
              "    .colab-df-container {\n",
              "      display:flex;\n",
              "      flex-wrap:wrap;\n",
              "      gap: 12px;\n",
              "    }\n",
              "\n",
              "    .colab-df-convert {\n",
              "      background-color: #E8F0FE;\n",
              "      border: none;\n",
              "      border-radius: 50%;\n",
              "      cursor: pointer;\n",
              "      display: none;\n",
              "      fill: #1967D2;\n",
              "      height: 32px;\n",
              "      padding: 0 0 0 0;\n",
              "      width: 32px;\n",
              "    }\n",
              "\n",
              "    .colab-df-convert:hover {\n",
              "      background-color: #E2EBFA;\n",
              "      box-shadow: 0px 1px 2px rgba(60, 64, 67, 0.3), 0px 1px 3px 1px rgba(60, 64, 67, 0.15);\n",
              "      fill: #174EA6;\n",
              "    }\n",
              "\n",
              "    [theme=dark] .colab-df-convert {\n",
              "      background-color: #3B4455;\n",
              "      fill: #D2E3FC;\n",
              "    }\n",
              "\n",
              "    [theme=dark] .colab-df-convert:hover {\n",
              "      background-color: #434B5C;\n",
              "      box-shadow: 0px 1px 3px 1px rgba(0, 0, 0, 0.15);\n",
              "      filter: drop-shadow(0px 1px 2px rgba(0, 0, 0, 0.3));\n",
              "      fill: #FFFFFF;\n",
              "    }\n",
              "  </style>\n",
              "\n",
              "      <script>\n",
              "        const buttonEl =\n",
              "          document.querySelector('#df-c09ab030-1702-4c1b-978b-abcc97bd14da button.colab-df-convert');\n",
              "        buttonEl.style.display =\n",
              "          google.colab.kernel.accessAllowed ? 'block' : 'none';\n",
              "\n",
              "        async function convertToInteractive(key) {\n",
              "          const element = document.querySelector('#df-c09ab030-1702-4c1b-978b-abcc97bd14da');\n",
              "          const dataTable =\n",
              "            await google.colab.kernel.invokeFunction('convertToInteractive',\n",
              "                                                     [key], {});\n",
              "          if (!dataTable) return;\n",
              "\n",
              "          const docLinkHtml = 'Like what you see? Visit the ' +\n",
              "            '<a target=\"_blank\" href=https://colab.research.google.com/notebooks/data_table.ipynb>data table notebook</a>'\n",
              "            + ' to learn more about interactive tables.';\n",
              "          element.innerHTML = '';\n",
              "          dataTable['output_type'] = 'display_data';\n",
              "          await google.colab.output.renderOutput(dataTable, element);\n",
              "          const docLink = document.createElement('div');\n",
              "          docLink.innerHTML = docLinkHtml;\n",
              "          element.appendChild(docLink);\n",
              "        }\n",
              "      </script>\n",
              "    </div>\n",
              "  </div>\n",
              "  "
            ]
          },
          "metadata": {},
          "execution_count": 46
        }
      ]
    },
    {
      "cell_type": "code",
      "source": [
        "work_from_home_tweets.head(50)"
      ],
      "metadata": {
        "colab": {
          "base_uri": "https://localhost:8080/",
          "height": 425
        },
        "id": "CD6K6vgzMHGf",
        "outputId": "328527bf-c5be-451f-bc65-584ee4e5da13"
      },
      "execution_count": 47,
      "outputs": [
        {
          "output_type": "execute_result",
          "data": {
            "text/plain": [
              "                         id create_date        username  \\\n",
              "5749    1387307224641380000  2023-04-28  EsseISolutions   \n",
              "6399    1387321028070700000  2023-04-28   shehzadyounis   \n",
              "14584   1389520532975060000  2023-05-04  Gauravdubey023   \n",
              "20473   1390659110320820000  2023-05-07        adiannet   \n",
              "25551   1391049344120280000  2023-05-08         erode14   \n",
              "36033   1393204487280630000  2023-05-31     VacoOrlando   \n",
              "47421   1395055223727600000  2023-05-19     Emeka_Ojoko   \n",
              "58689   1397220206175570000  2023-05-25      Midlayf167   \n",
              "68617   1397842345949720000  2023-05-27     meforevermy   \n",
              "94033   1400510000000000000  2023-05-03        LAW_hite   \n",
              "103438  1401960000000000000  2023-05-07       AccessOBC   \n",
              "112955  1403270000000000000  2023-05-11  johnyoungmedia   \n",
              "\n",
              "                      location  \\\n",
              "5749                       NaN   \n",
              "6399                 Thinkstan   \n",
              "14584                      NaN   \n",
              "20473           Seri Kembangan   \n",
              "25551                  Chennai   \n",
              "36033              Orlando, FL   \n",
              "47421   Port Harcourt, Nigeria   \n",
              "58689            Quelques part   \n",
              "68617                      NaN   \n",
              "94033                   London   \n",
              "103438             Raleigh, NC   \n",
              "112955    Brighton, Sussex, UK   \n",
              "\n",
              "                                             clean_tweets  \n",
              "5749      covid19 wfh prompt spike cyberattack bank insur  \n",
              "6399      covid19 wfh prompt spike cyberattack bank insur  \n",
              "14584   covid19 engulf countri mani industri embrac wf...  \n",
              "20473   stori time financi servic firm kl face covid19...  \n",
              "25551   previous apart call height la ye last year cha...  \n",
              "36033        work home concept arriv wfh becom part everi  \n",
              "47421     challeng day remotest possibl wash hand regular  \n",
              "58689   covid19 disrupt lot game develop cycl major st...  \n",
              "68617   peopl benefit pkp non medic govern staff get w...  \n",
              "94033   realli feel privileg today need commut year wf...  \n",
              "103438        tip get screen time control even wfh pandem  \n",
              "112955  brit could save hour commut per year post peop...  "
            ],
            "text/html": [
              "\n",
              "  <div id=\"df-052d839c-de5c-49ce-a7e6-1755dc6c6aeb\">\n",
              "    <div class=\"colab-df-container\">\n",
              "      <div>\n",
              "<style scoped>\n",
              "    .dataframe tbody tr th:only-of-type {\n",
              "        vertical-align: middle;\n",
              "    }\n",
              "\n",
              "    .dataframe tbody tr th {\n",
              "        vertical-align: top;\n",
              "    }\n",
              "\n",
              "    .dataframe thead th {\n",
              "        text-align: right;\n",
              "    }\n",
              "</style>\n",
              "<table border=\"1\" class=\"dataframe\">\n",
              "  <thead>\n",
              "    <tr style=\"text-align: right;\">\n",
              "      <th></th>\n",
              "      <th>id</th>\n",
              "      <th>create_date</th>\n",
              "      <th>username</th>\n",
              "      <th>location</th>\n",
              "      <th>clean_tweets</th>\n",
              "    </tr>\n",
              "  </thead>\n",
              "  <tbody>\n",
              "    <tr>\n",
              "      <th>5749</th>\n",
              "      <td>1387307224641380000</td>\n",
              "      <td>2023-04-28</td>\n",
              "      <td>EsseISolutions</td>\n",
              "      <td>NaN</td>\n",
              "      <td>covid19 wfh prompt spike cyberattack bank insur</td>\n",
              "    </tr>\n",
              "    <tr>\n",
              "      <th>6399</th>\n",
              "      <td>1387321028070700000</td>\n",
              "      <td>2023-04-28</td>\n",
              "      <td>shehzadyounis</td>\n",
              "      <td>Thinkstan</td>\n",
              "      <td>covid19 wfh prompt spike cyberattack bank insur</td>\n",
              "    </tr>\n",
              "    <tr>\n",
              "      <th>14584</th>\n",
              "      <td>1389520532975060000</td>\n",
              "      <td>2023-05-04</td>\n",
              "      <td>Gauravdubey023</td>\n",
              "      <td>NaN</td>\n",
              "      <td>covid19 engulf countri mani industri embrac wf...</td>\n",
              "    </tr>\n",
              "    <tr>\n",
              "      <th>20473</th>\n",
              "      <td>1390659110320820000</td>\n",
              "      <td>2023-05-07</td>\n",
              "      <td>adiannet</td>\n",
              "      <td>Seri Kembangan</td>\n",
              "      <td>stori time financi servic firm kl face covid19...</td>\n",
              "    </tr>\n",
              "    <tr>\n",
              "      <th>25551</th>\n",
              "      <td>1391049344120280000</td>\n",
              "      <td>2023-05-08</td>\n",
              "      <td>erode14</td>\n",
              "      <td>Chennai</td>\n",
              "      <td>previous apart call height la ye last year cha...</td>\n",
              "    </tr>\n",
              "    <tr>\n",
              "      <th>36033</th>\n",
              "      <td>1393204487280630000</td>\n",
              "      <td>2023-05-31</td>\n",
              "      <td>VacoOrlando</td>\n",
              "      <td>Orlando, FL</td>\n",
              "      <td>work home concept arriv wfh becom part everi</td>\n",
              "    </tr>\n",
              "    <tr>\n",
              "      <th>47421</th>\n",
              "      <td>1395055223727600000</td>\n",
              "      <td>2023-05-19</td>\n",
              "      <td>Emeka_Ojoko</td>\n",
              "      <td>Port Harcourt, Nigeria</td>\n",
              "      <td>challeng day remotest possibl wash hand regular</td>\n",
              "    </tr>\n",
              "    <tr>\n",
              "      <th>58689</th>\n",
              "      <td>1397220206175570000</td>\n",
              "      <td>2023-05-25</td>\n",
              "      <td>Midlayf167</td>\n",
              "      <td>Quelques part</td>\n",
              "      <td>covid19 disrupt lot game develop cycl major st...</td>\n",
              "    </tr>\n",
              "    <tr>\n",
              "      <th>68617</th>\n",
              "      <td>1397842345949720000</td>\n",
              "      <td>2023-05-27</td>\n",
              "      <td>meforevermy</td>\n",
              "      <td>NaN</td>\n",
              "      <td>peopl benefit pkp non medic govern staff get w...</td>\n",
              "    </tr>\n",
              "    <tr>\n",
              "      <th>94033</th>\n",
              "      <td>1400510000000000000</td>\n",
              "      <td>2023-05-03</td>\n",
              "      <td>LAW_hite</td>\n",
              "      <td>London</td>\n",
              "      <td>realli feel privileg today need commut year wf...</td>\n",
              "    </tr>\n",
              "    <tr>\n",
              "      <th>103438</th>\n",
              "      <td>1401960000000000000</td>\n",
              "      <td>2023-05-07</td>\n",
              "      <td>AccessOBC</td>\n",
              "      <td>Raleigh, NC</td>\n",
              "      <td>tip get screen time control even wfh pandem</td>\n",
              "    </tr>\n",
              "    <tr>\n",
              "      <th>112955</th>\n",
              "      <td>1403270000000000000</td>\n",
              "      <td>2023-05-11</td>\n",
              "      <td>johnyoungmedia</td>\n",
              "      <td>Brighton, Sussex, UK</td>\n",
              "      <td>brit could save hour commut per year post peop...</td>\n",
              "    </tr>\n",
              "  </tbody>\n",
              "</table>\n",
              "</div>\n",
              "      <button class=\"colab-df-convert\" onclick=\"convertToInteractive('df-052d839c-de5c-49ce-a7e6-1755dc6c6aeb')\"\n",
              "              title=\"Convert this dataframe to an interactive table.\"\n",
              "              style=\"display:none;\">\n",
              "        \n",
              "  <svg xmlns=\"http://www.w3.org/2000/svg\" height=\"24px\"viewBox=\"0 0 24 24\"\n",
              "       width=\"24px\">\n",
              "    <path d=\"M0 0h24v24H0V0z\" fill=\"none\"/>\n",
              "    <path d=\"M18.56 5.44l.94 2.06.94-2.06 2.06-.94-2.06-.94-.94-2.06-.94 2.06-2.06.94zm-11 1L8.5 8.5l.94-2.06 2.06-.94-2.06-.94L8.5 2.5l-.94 2.06-2.06.94zm10 10l.94 2.06.94-2.06 2.06-.94-2.06-.94-.94-2.06-.94 2.06-2.06.94z\"/><path d=\"M17.41 7.96l-1.37-1.37c-.4-.4-.92-.59-1.43-.59-.52 0-1.04.2-1.43.59L10.3 9.45l-7.72 7.72c-.78.78-.78 2.05 0 2.83L4 21.41c.39.39.9.59 1.41.59.51 0 1.02-.2 1.41-.59l7.78-7.78 2.81-2.81c.8-.78.8-2.07 0-2.86zM5.41 20L4 18.59l7.72-7.72 1.47 1.35L5.41 20z\"/>\n",
              "  </svg>\n",
              "      </button>\n",
              "      \n",
              "  <style>\n",
              "    .colab-df-container {\n",
              "      display:flex;\n",
              "      flex-wrap:wrap;\n",
              "      gap: 12px;\n",
              "    }\n",
              "\n",
              "    .colab-df-convert {\n",
              "      background-color: #E8F0FE;\n",
              "      border: none;\n",
              "      border-radius: 50%;\n",
              "      cursor: pointer;\n",
              "      display: none;\n",
              "      fill: #1967D2;\n",
              "      height: 32px;\n",
              "      padding: 0 0 0 0;\n",
              "      width: 32px;\n",
              "    }\n",
              "\n",
              "    .colab-df-convert:hover {\n",
              "      background-color: #E2EBFA;\n",
              "      box-shadow: 0px 1px 2px rgba(60, 64, 67, 0.3), 0px 1px 3px 1px rgba(60, 64, 67, 0.15);\n",
              "      fill: #174EA6;\n",
              "    }\n",
              "\n",
              "    [theme=dark] .colab-df-convert {\n",
              "      background-color: #3B4455;\n",
              "      fill: #D2E3FC;\n",
              "    }\n",
              "\n",
              "    [theme=dark] .colab-df-convert:hover {\n",
              "      background-color: #434B5C;\n",
              "      box-shadow: 0px 1px 3px 1px rgba(0, 0, 0, 0.15);\n",
              "      filter: drop-shadow(0px 1px 2px rgba(0, 0, 0, 0.3));\n",
              "      fill: #FFFFFF;\n",
              "    }\n",
              "  </style>\n",
              "\n",
              "      <script>\n",
              "        const buttonEl =\n",
              "          document.querySelector('#df-052d839c-de5c-49ce-a7e6-1755dc6c6aeb button.colab-df-convert');\n",
              "        buttonEl.style.display =\n",
              "          google.colab.kernel.accessAllowed ? 'block' : 'none';\n",
              "\n",
              "        async function convertToInteractive(key) {\n",
              "          const element = document.querySelector('#df-052d839c-de5c-49ce-a7e6-1755dc6c6aeb');\n",
              "          const dataTable =\n",
              "            await google.colab.kernel.invokeFunction('convertToInteractive',\n",
              "                                                     [key], {});\n",
              "          if (!dataTable) return;\n",
              "\n",
              "          const docLinkHtml = 'Like what you see? Visit the ' +\n",
              "            '<a target=\"_blank\" href=https://colab.research.google.com/notebooks/data_table.ipynb>data table notebook</a>'\n",
              "            + ' to learn more about interactive tables.';\n",
              "          element.innerHTML = '';\n",
              "          dataTable['output_type'] = 'display_data';\n",
              "          await google.colab.output.renderOutput(dataTable, element);\n",
              "          const docLink = document.createElement('div');\n",
              "          docLink.innerHTML = docLinkHtml;\n",
              "          element.appendChild(docLink);\n",
              "        }\n",
              "      </script>\n",
              "    </div>\n",
              "  </div>\n",
              "  "
            ]
          },
          "metadata": {},
          "execution_count": 47
        }
      ]
    },
    {
      "cell_type": "code",
      "source": [
        "import pandas as pd\n",
        "from nltk.sentiment import SentimentIntensityAnalyzer\n",
        "\n",
        "# Initialize the SentimentIntensityAnalyzer\n",
        "sia = SentimentIntensityAnalyzer()\n",
        "\n",
        "# Define a function to analyze the sentiment of each tweet\n",
        "def get_sentiment(tweet):\n",
        "    sentiment = sia.polarity_scores(tweet)\n",
        "    compound_score = sentiment['compound']\n",
        "    \n",
        "    if compound_score >= 0.05:\n",
        "        return 'Positive'\n",
        "    elif compound_score <= -0.05:\n",
        "        return 'Negative'\n",
        "    else:\n",
        "        return 'Neutral'\n",
        "\n",
        "\n"
      ],
      "metadata": {
        "id": "p1DqeupiMdGK"
      },
      "execution_count": 90,
      "outputs": []
    },
    {
      "cell_type": "code",
      "source": [
        "df['compound'] = df['sentiment_scores'].apply(lambda scores: scores['compound'])\n",
        "df['negative'] = df['sentiment_scores'].apply(lambda scores: scores['neg'])\n",
        "df['neutral'] = df['sentiment_scores'].apply(lambda scores: scores['neu'])\n",
        "df['positive'] = df['sentiment_scores'].apply(lambda scores: scores['pos'])\n",
        "df['sentiment'] = df['compound'].apply(lambda score: 'Positive' if score > 0 else 'Negative' if score < 0 else 'Neutral')\n",
        "\n"
      ],
      "metadata": {
        "id": "WmLPsmpPV2x_"
      },
      "execution_count": 91,
      "outputs": []
    },
    {
      "cell_type": "code",
      "source": [
        "df = df[['id', 'create_date', 'username', 'location', 'clean_tweets', 'compound', 'negative', 'neutral', 'positive', 'sentiment']]\n"
      ],
      "metadata": {
        "id": "rX2RXPsBWDEB"
      },
      "execution_count": 92,
      "outputs": []
    },
    {
      "cell_type": "code",
      "source": [
        "print(df)"
      ],
      "metadata": {
        "colab": {
          "base_uri": "https://localhost:8080/",
          "height": 0
        },
        "id": "jwlUiCLsXW2u",
        "outputId": "e76c436f-f206-4cbc-f63d-f419afeb88d3"
      },
      "execution_count": 93,
      "outputs": [
        {
          "output_type": "stream",
          "name": "stdout",
          "text": [
            "                         id create_date         username  \\\n",
            "0       1386694264550270000  2023-04-26  jfd4humanrights   \n",
            "1       1386694260213170000  2023-04-26      andgrateful   \n",
            "2       1386694256413320000  2023-04-26       jlreader8B   \n",
            "3       1386694252017630000  2023-04-26    ijennychauhan   \n",
            "4       1386694248284700000  2023-04-26      IJNSJournal   \n",
            "...                     ...         ...              ...   \n",
            "125149  1404540000000000000  2023-05-31          MarEthr   \n",
            "125150  1404540000000000000  2023-05-31    stewart_geoff   \n",
            "125151  1404540000000000000  2023-05-31      edmontonspc   \n",
            "125152  1404540000000000000  2023-05-31      drsachinips   \n",
            "125153  1404540000000000000  2023-05-31           sltrib   \n",
            "\n",
            "                         location  \\\n",
            "0                         Alabama   \n",
            "1                             NaN   \n",
            "2                             NaN   \n",
            "3                             NaN   \n",
            "4                              UK   \n",
            "...                           ...   \n",
            "125149                              \n",
            "125150                        NaN   \n",
            "125151  Edmonton, Alberta, Canada   \n",
            "125152                  New Delhi   \n",
            "125153       Salt Lake City, Utah   \n",
            "\n",
            "                                             clean_tweets  compound  negative  \\\n",
            "0        work close indian govern rapidli deploy addit...    0.0772     0.170   \n",
            "1       flip flop fauci admit outdoor covid19 transmis...   -0.4019     0.398   \n",
            "2       hi twitter tim man white hous covid19 suppli c...    0.0000     0.000   \n",
            "3       pray countri battl worst surg world wit let ir...   -0.4215     0.306   \n",
            "4       rapid invest nurs strengthen global covid19 re...    0.3182     0.000   \n",
            "...                                                   ...       ...       ...   \n",
            "125149                                                       0.0000     0.000   \n",
            "125150  vaccin ramp mani social distanc guidelin remai...    0.0000     0.000   \n",
            "125151  latest blog post volunt nicol sobu talk impact...    0.0000     0.000   \n",
            "125152  weekend alert vigil pcr staff recov two wheele...    0.2960     0.000   \n",
            "125153                                                mil    0.0000     0.000   \n",
            "\n",
            "        neutral  positive sentiment  \n",
            "0         0.638     0.191  Positive  \n",
            "1         0.442     0.159  Negative  \n",
            "2         1.000     0.000   Neutral  \n",
            "3         0.522     0.172  Negative  \n",
            "4         0.723     0.277  Positive  \n",
            "...         ...       ...       ...  \n",
            "125149    0.000     0.000   Neutral  \n",
            "125150    1.000     0.000   Neutral  \n",
            "125151    1.000     0.000   Neutral  \n",
            "125152    0.820     0.180  Positive  \n",
            "125153    1.000     0.000   Neutral  \n",
            "\n",
            "[125154 rows x 10 columns]\n"
          ]
        }
      ]
    },
    {
      "cell_type": "code",
      "source": [
        "df.head()"
      ],
      "metadata": {
        "colab": {
          "base_uri": "https://localhost:8080/",
          "height": 337
        },
        "id": "anomhn54XcgR",
        "outputId": "0c8e65e7-91f1-49c0-c7e9-14d84c8042a1"
      },
      "execution_count": 94,
      "outputs": [
        {
          "output_type": "execute_result",
          "data": {
            "text/plain": [
              "                    id create_date         username location  \\\n",
              "0  1386694264550270000  2023-04-26  jfd4humanrights  Alabama   \n",
              "1  1386694260213170000  2023-04-26      andgrateful      NaN   \n",
              "2  1386694256413320000  2023-04-26       jlreader8B      NaN   \n",
              "3  1386694252017630000  2023-04-26    ijennychauhan      NaN   \n",
              "4  1386694248284700000  2023-04-26      IJNSJournal       UK   \n",
              "\n",
              "                                        clean_tweets  compound  negative  \\\n",
              "0   work close indian govern rapidli deploy addit...    0.0772     0.170   \n",
              "1  flip flop fauci admit outdoor covid19 transmis...   -0.4019     0.398   \n",
              "2  hi twitter tim man white hous covid19 suppli c...    0.0000     0.000   \n",
              "3  pray countri battl worst surg world wit let ir...   -0.4215     0.306   \n",
              "4  rapid invest nurs strengthen global covid19 re...    0.3182     0.000   \n",
              "\n",
              "   neutral  positive sentiment  \n",
              "0    0.638     0.191  Positive  \n",
              "1    0.442     0.159  Negative  \n",
              "2    1.000     0.000   Neutral  \n",
              "3    0.522     0.172  Negative  \n",
              "4    0.723     0.277  Positive  "
            ],
            "text/html": [
              "\n",
              "  <div id=\"df-cd4d6dc8-34ac-4362-a45a-67ed6ec193e8\">\n",
              "    <div class=\"colab-df-container\">\n",
              "      <div>\n",
              "<style scoped>\n",
              "    .dataframe tbody tr th:only-of-type {\n",
              "        vertical-align: middle;\n",
              "    }\n",
              "\n",
              "    .dataframe tbody tr th {\n",
              "        vertical-align: top;\n",
              "    }\n",
              "\n",
              "    .dataframe thead th {\n",
              "        text-align: right;\n",
              "    }\n",
              "</style>\n",
              "<table border=\"1\" class=\"dataframe\">\n",
              "  <thead>\n",
              "    <tr style=\"text-align: right;\">\n",
              "      <th></th>\n",
              "      <th>id</th>\n",
              "      <th>create_date</th>\n",
              "      <th>username</th>\n",
              "      <th>location</th>\n",
              "      <th>clean_tweets</th>\n",
              "      <th>compound</th>\n",
              "      <th>negative</th>\n",
              "      <th>neutral</th>\n",
              "      <th>positive</th>\n",
              "      <th>sentiment</th>\n",
              "    </tr>\n",
              "  </thead>\n",
              "  <tbody>\n",
              "    <tr>\n",
              "      <th>0</th>\n",
              "      <td>1386694264550270000</td>\n",
              "      <td>2023-04-26</td>\n",
              "      <td>jfd4humanrights</td>\n",
              "      <td>Alabama</td>\n",
              "      <td>work close indian govern rapidli deploy addit...</td>\n",
              "      <td>0.0772</td>\n",
              "      <td>0.170</td>\n",
              "      <td>0.638</td>\n",
              "      <td>0.191</td>\n",
              "      <td>Positive</td>\n",
              "    </tr>\n",
              "    <tr>\n",
              "      <th>1</th>\n",
              "      <td>1386694260213170000</td>\n",
              "      <td>2023-04-26</td>\n",
              "      <td>andgrateful</td>\n",
              "      <td>NaN</td>\n",
              "      <td>flip flop fauci admit outdoor covid19 transmis...</td>\n",
              "      <td>-0.4019</td>\n",
              "      <td>0.398</td>\n",
              "      <td>0.442</td>\n",
              "      <td>0.159</td>\n",
              "      <td>Negative</td>\n",
              "    </tr>\n",
              "    <tr>\n",
              "      <th>2</th>\n",
              "      <td>1386694256413320000</td>\n",
              "      <td>2023-04-26</td>\n",
              "      <td>jlreader8B</td>\n",
              "      <td>NaN</td>\n",
              "      <td>hi twitter tim man white hous covid19 suppli c...</td>\n",
              "      <td>0.0000</td>\n",
              "      <td>0.000</td>\n",
              "      <td>1.000</td>\n",
              "      <td>0.000</td>\n",
              "      <td>Neutral</td>\n",
              "    </tr>\n",
              "    <tr>\n",
              "      <th>3</th>\n",
              "      <td>1386694252017630000</td>\n",
              "      <td>2023-04-26</td>\n",
              "      <td>ijennychauhan</td>\n",
              "      <td>NaN</td>\n",
              "      <td>pray countri battl worst surg world wit let ir...</td>\n",
              "      <td>-0.4215</td>\n",
              "      <td>0.306</td>\n",
              "      <td>0.522</td>\n",
              "      <td>0.172</td>\n",
              "      <td>Negative</td>\n",
              "    </tr>\n",
              "    <tr>\n",
              "      <th>4</th>\n",
              "      <td>1386694248284700000</td>\n",
              "      <td>2023-04-26</td>\n",
              "      <td>IJNSJournal</td>\n",
              "      <td>UK</td>\n",
              "      <td>rapid invest nurs strengthen global covid19 re...</td>\n",
              "      <td>0.3182</td>\n",
              "      <td>0.000</td>\n",
              "      <td>0.723</td>\n",
              "      <td>0.277</td>\n",
              "      <td>Positive</td>\n",
              "    </tr>\n",
              "  </tbody>\n",
              "</table>\n",
              "</div>\n",
              "      <button class=\"colab-df-convert\" onclick=\"convertToInteractive('df-cd4d6dc8-34ac-4362-a45a-67ed6ec193e8')\"\n",
              "              title=\"Convert this dataframe to an interactive table.\"\n",
              "              style=\"display:none;\">\n",
              "        \n",
              "  <svg xmlns=\"http://www.w3.org/2000/svg\" height=\"24px\"viewBox=\"0 0 24 24\"\n",
              "       width=\"24px\">\n",
              "    <path d=\"M0 0h24v24H0V0z\" fill=\"none\"/>\n",
              "    <path d=\"M18.56 5.44l.94 2.06.94-2.06 2.06-.94-2.06-.94-.94-2.06-.94 2.06-2.06.94zm-11 1L8.5 8.5l.94-2.06 2.06-.94-2.06-.94L8.5 2.5l-.94 2.06-2.06.94zm10 10l.94 2.06.94-2.06 2.06-.94-2.06-.94-.94-2.06-.94 2.06-2.06.94z\"/><path d=\"M17.41 7.96l-1.37-1.37c-.4-.4-.92-.59-1.43-.59-.52 0-1.04.2-1.43.59L10.3 9.45l-7.72 7.72c-.78.78-.78 2.05 0 2.83L4 21.41c.39.39.9.59 1.41.59.51 0 1.02-.2 1.41-.59l7.78-7.78 2.81-2.81c.8-.78.8-2.07 0-2.86zM5.41 20L4 18.59l7.72-7.72 1.47 1.35L5.41 20z\"/>\n",
              "  </svg>\n",
              "      </button>\n",
              "      \n",
              "  <style>\n",
              "    .colab-df-container {\n",
              "      display:flex;\n",
              "      flex-wrap:wrap;\n",
              "      gap: 12px;\n",
              "    }\n",
              "\n",
              "    .colab-df-convert {\n",
              "      background-color: #E8F0FE;\n",
              "      border: none;\n",
              "      border-radius: 50%;\n",
              "      cursor: pointer;\n",
              "      display: none;\n",
              "      fill: #1967D2;\n",
              "      height: 32px;\n",
              "      padding: 0 0 0 0;\n",
              "      width: 32px;\n",
              "    }\n",
              "\n",
              "    .colab-df-convert:hover {\n",
              "      background-color: #E2EBFA;\n",
              "      box-shadow: 0px 1px 2px rgba(60, 64, 67, 0.3), 0px 1px 3px 1px rgba(60, 64, 67, 0.15);\n",
              "      fill: #174EA6;\n",
              "    }\n",
              "\n",
              "    [theme=dark] .colab-df-convert {\n",
              "      background-color: #3B4455;\n",
              "      fill: #D2E3FC;\n",
              "    }\n",
              "\n",
              "    [theme=dark] .colab-df-convert:hover {\n",
              "      background-color: #434B5C;\n",
              "      box-shadow: 0px 1px 3px 1px rgba(0, 0, 0, 0.15);\n",
              "      filter: drop-shadow(0px 1px 2px rgba(0, 0, 0, 0.3));\n",
              "      fill: #FFFFFF;\n",
              "    }\n",
              "  </style>\n",
              "\n",
              "      <script>\n",
              "        const buttonEl =\n",
              "          document.querySelector('#df-cd4d6dc8-34ac-4362-a45a-67ed6ec193e8 button.colab-df-convert');\n",
              "        buttonEl.style.display =\n",
              "          google.colab.kernel.accessAllowed ? 'block' : 'none';\n",
              "\n",
              "        async function convertToInteractive(key) {\n",
              "          const element = document.querySelector('#df-cd4d6dc8-34ac-4362-a45a-67ed6ec193e8');\n",
              "          const dataTable =\n",
              "            await google.colab.kernel.invokeFunction('convertToInteractive',\n",
              "                                                     [key], {});\n",
              "          if (!dataTable) return;\n",
              "\n",
              "          const docLinkHtml = 'Like what you see? Visit the ' +\n",
              "            '<a target=\"_blank\" href=https://colab.research.google.com/notebooks/data_table.ipynb>data table notebook</a>'\n",
              "            + ' to learn more about interactive tables.';\n",
              "          element.innerHTML = '';\n",
              "          dataTable['output_type'] = 'display_data';\n",
              "          await google.colab.output.renderOutput(dataTable, element);\n",
              "          const docLink = document.createElement('div');\n",
              "          docLink.innerHTML = docLinkHtml;\n",
              "          element.appendChild(docLink);\n",
              "        }\n",
              "      </script>\n",
              "    </div>\n",
              "  </div>\n",
              "  "
            ]
          },
          "metadata": {},
          "execution_count": 94
        }
      ]
    },
    {
      "cell_type": "code",
      "source": [
        "# Assuming you have a DataFrame named df with the desired format\n",
        "\n",
        "# Analyze the sentiment column and assign 'Positive' or 'Negative' as the final output\n",
        "df['final_output'] = df['sentiment'].apply(lambda x: 'Positive' if x == 'Positive' else 'Negative')\n",
        "\n",
        "# Print the final output\n",
        "print(df['final_output'])\n"
      ],
      "metadata": {
        "colab": {
          "base_uri": "https://localhost:8080/",
          "height": 0
        },
        "id": "LoAg7rGvXpOJ",
        "outputId": "1d1314f6-a54e-436f-d9ff-32a197e2ca25"
      },
      "execution_count": 95,
      "outputs": [
        {
          "output_type": "stream",
          "name": "stdout",
          "text": [
            "0         Positive\n",
            "1         Negative\n",
            "2         Negative\n",
            "3         Negative\n",
            "4         Positive\n",
            "            ...   \n",
            "125149    Negative\n",
            "125150    Negative\n",
            "125151    Negative\n",
            "125152    Positive\n",
            "125153    Negative\n",
            "Name: final_output, Length: 125154, dtype: object\n"
          ]
        }
      ]
    },
    {
      "cell_type": "code",
      "source": [
        "# Assuming you have a DataFrame named df with the desired format\n",
        "\n",
        "# Count the number of positive and negative sentiments\n",
        "positive_count = df[df['sentiment'] == 'Positive'].shape[0]\n",
        "negative_count = df[df['sentiment'] == 'Negative'].shape[0]\n",
        "\n",
        "# Determine the overall sentiment based on the counts\n",
        "if positive_count > negative_count:\n",
        "    overall_output = 'Positive'\n",
        "elif positive_count < negative_count:\n",
        "    overall_output = 'Negative'\n",
        "else:\n",
        "    overall_output = 'Neutral'\n",
        "\n",
        "# Print the overall output\n",
        "print(\"Overall Output:\", overall_output)\n"
      ],
      "metadata": {
        "colab": {
          "base_uri": "https://localhost:8080/",
          "height": 0
        },
        "id": "OfO2TYkHXpaM",
        "outputId": "613cc936-f256-40b7-ece9-383e4abf5e20"
      },
      "execution_count": 96,
      "outputs": [
        {
          "output_type": "stream",
          "name": "stdout",
          "text": [
            "Overall Output: Positive\n"
          ]
        }
      ]
    },
    {
      "cell_type": "code",
      "source": [
        "import seaborn as sns\n",
        "import matplotlib.pyplot as plt\n",
        "\n",
        "# Plot the class imbalance\n",
        "plt.figure(figsize=(8, 6))\n",
        "sns.countplot(data=df, x='sentiment')\n",
        "plt.title('Sentiment Distribution')\n",
        "plt.xlabel('Sentiment')\n",
        "plt.ylabel('Count')\n",
        "plt.show()\n"
      ],
      "metadata": {
        "colab": {
          "base_uri": "https://localhost:8080/",
          "height": 564
        },
        "id": "BRfShwLcXpdQ",
        "outputId": "035c7a79-921b-4c6d-e85a-bbd6b390dd3a"
      },
      "execution_count": 97,
      "outputs": [
        {
          "output_type": "display_data",
          "data": {
            "text/plain": [
              "<Figure size 800x600 with 1 Axes>"
            ],
            "image/png": "[encoded data removed]"
          },
          "metadata": {}
        }
      ]
    },
    {
      "cell_type": "code",
      "source": [
        "from sklearn.model_selection import train_test_split\n",
        "\n",
        "# Define the features (X) and the target variable (y)\n",
        "X = df['location']\n",
        "y = df['sentiment']\n",
        "\n",
        "# Split the data into train and test sets\n",
        "X_train, X_test, y_train, y_test = train_test_split(X, y, test_size=0.2, random_state=42)\n"
      ],
      "metadata": {
        "id": "Xoc5exCBa8Em"
      },
      "execution_count": 108,
      "outputs": []
    },
    {
      "cell_type": "code",
      "source": [
        "!pip install geopandas"
      ],
      "metadata": {
        "colab": {
          "base_uri": "https://localhost:8080/",
          "height": 0
        },
        "id": "Ky9RpLKZdLUZ",
        "outputId": "95ea06be-89b0-4fef-e55b-941e6d47b552"
      },
      "execution_count": 112,
      "outputs": [
        {
          "output_type": "stream",
          "name": "stdout",
          "text": [
            "Looking in indexes: https://pypi.org/simple, https://us-python.pkg.dev/colab-wheels/public/simple/\n",
            "Collecting geopandas\n",
            "  Downloading geopandas-0.13.0-py3-none-any.whl (1.1 MB)\n",
            "\u001b[2K     \u001b[90m━━━━━━━━━━━━━━━━━━━━━━━━━━━━━━━━━━━━━━━━\u001b[0m \u001b[32m1.1/1.1 MB\u001b[0m \u001b[31m20.7 MB/s\u001b[0m eta \u001b[36m0:00:00\u001b[0m\n",
            "\u001b[?25hCollecting fiona>=1.8.19 (from geopandas)\n",
            "  Downloading Fiona-1.9.4.post1-cp310-cp310-manylinux_2_17_x86_64.manylinux2014_x86_64.whl (16.4 MB)\n",
            "\u001b[2K     \u001b[90m━━━━━━━━━━━━━━━━━━━━━━━━━━━━━━━━━━━━━━━━\u001b[0m \u001b[32m16.4/16.4 MB\u001b[0m \u001b[31m71.2 MB/s\u001b[0m eta \u001b[36m0:00:00\u001b[0m\n",
            "\u001b[?25hRequirement already satisfied: packaging in /usr/local/lib/python3.10/dist-packages (from geopandas) (23.1)\n",
            "Requirement already satisfied: pandas>=1.1.0 in /usr/local/lib/python3.10/dist-packages (from geopandas) (1.5.3)\n",
            "Collecting pyproj>=3.0.1 (from geopandas)\n",
            "  Downloading pyproj-3.5.0-cp310-cp310-manylinux_2_17_x86_64.manylinux2014_x86_64.whl (7.7 MB)\n",
            "\u001b[2K     \u001b[90m━━━━━━━━━━━━━━━━━━━━━━━━━━━━━━━━━━━━━━━━\u001b[0m \u001b[32m7.7/7.7 MB\u001b[0m \u001b[31m104.4 MB/s\u001b[0m eta \u001b[36m0:00:00\u001b[0m\n",
            "\u001b[?25hRequirement already satisfied: shapely>=1.7.1 in /usr/local/lib/python3.10/dist-packages (from geopandas) (2.0.1)\n",
            "Requirement already satisfied: attrs>=19.2.0 in /usr/local/lib/python3.10/dist-packages (from fiona>=1.8.19->geopandas) (23.1.0)\n",
            "Requirement already satisfied: certifi in /usr/local/lib/python3.10/dist-packages (from fiona>=1.8.19->geopandas) (2022.12.7)\n",
            "Requirement already satisfied: click~=8.0 in /usr/local/lib/python3.10/dist-packages (from fiona>=1.8.19->geopandas) (8.1.3)\n",
            "Collecting click-plugins>=1.0 (from fiona>=1.8.19->geopandas)\n",
            "  Downloading click_plugins-1.1.1-py2.py3-none-any.whl (7.5 kB)\n",
            "Collecting cligj>=0.5 (from fiona>=1.8.19->geopandas)\n",
            "  Downloading cligj-0.7.2-py3-none-any.whl (7.1 kB)\n",
            "Requirement already satisfied: six in /usr/local/lib/python3.10/dist-packages (from fiona>=1.8.19->geopandas) (1.16.0)\n",
            "Requirement already satisfied: python-dateutil>=2.8.1 in /usr/local/lib/python3.10/dist-packages (from pandas>=1.1.0->geopandas) (2.8.2)\n",
            "Requirement already satisfied: pytz>=2020.1 in /usr/local/lib/python3.10/dist-packages (from pandas>=1.1.0->geopandas) (2022.7.1)\n",
            "Requirement already satisfied: numpy>=1.21.0 in /usr/local/lib/python3.10/dist-packages (from pandas>=1.1.0->geopandas) (1.22.4)\n",
            "Installing collected packages: pyproj, cligj, click-plugins, fiona, geopandas\n",
            "Successfully installed click-plugins-1.1.1 cligj-0.7.2 fiona-1.9.4.post1 geopandas-0.13.0 pyproj-3.5.0\n"
          ]
        }
      ]
    },
    {
      "cell_type": "code",
      "source": [
        "!pip install descartes"
      ],
      "metadata": {
        "colab": {
          "base_uri": "https://localhost:8080/",
          "height": 0
        },
        "id": "ECWh4ZWPdnKI",
        "outputId": "a605596a-1aa0-46d8-f933-325d5d6a3aa7"
      },
      "execution_count": 115,
      "outputs": [
        {
          "output_type": "stream",
          "name": "stdout",
          "text": [
            "Looking in indexes: https://pypi.org/simple, https://us-python.pkg.dev/colab-wheels/public/simple/\n",
            "Collecting descartes\n",
            "  Downloading descartes-1.1.0-py3-none-any.whl (5.8 kB)\n",
            "Requirement already satisfied: matplotlib in /usr/local/lib/python3.10/dist-packages (from descartes) (3.7.1)\n",
            "Requirement already satisfied: contourpy>=1.0.1 in /usr/local/lib/python3.10/dist-packages (from matplotlib->descartes) (1.0.7)\n",
            "Requirement already satisfied: cycler>=0.10 in /usr/local/lib/python3.10/dist-packages (from matplotlib->descartes) (0.11.0)\n",
            "Requirement already satisfied: fonttools>=4.22.0 in /usr/local/lib/python3.10/dist-packages (from matplotlib->descartes) (4.39.3)\n",
            "Requirement already satisfied: kiwisolver>=1.0.1 in /usr/local/lib/python3.10/dist-packages (from matplotlib->descartes) (1.4.4)\n",
            "Requirement already satisfied: numpy>=1.20 in /usr/local/lib/python3.10/dist-packages (from matplotlib->descartes) (1.22.4)\n",
            "Requirement already satisfied: packaging>=20.0 in /usr/local/lib/python3.10/dist-packages (from matplotlib->descartes) (23.1)\n",
            "Requirement already satisfied: pillow>=6.2.0 in /usr/local/lib/python3.10/dist-packages (from matplotlib->descartes) (8.4.0)\n",
            "Requirement already satisfied: pyparsing>=2.3.1 in /usr/local/lib/python3.10/dist-packages (from matplotlib->descartes) (3.0.9)\n",
            "Requirement already satisfied: python-dateutil>=2.7 in /usr/local/lib/python3.10/dist-packages (from matplotlib->descartes) (2.8.2)\n",
            "Requirement already satisfied: six>=1.5 in /usr/local/lib/python3.10/dist-packages (from python-dateutil>=2.7->matplotlib->descartes) (1.16.0)\n",
            "Installing collected packages: descartes\n",
            "Successfully installed descartes-1.1.0\n"
          ]
        }
      ]
    },
    {
      "cell_type": "code",
      "source": [
        "import pandas as pd\n",
        "import geopandas as gpd\n",
        "from shapely.geometry import Point\n",
        "import matplotlib.pyplot as plt"
      ],
      "metadata": {
        "id": "0f1MnYa_Xpnq"
      },
      "execution_count": 113,
      "outputs": []
    },
    {
      "cell_type": "code",
      "source": [
        "missing_values = df['location'].isnull().sum()\n",
        "print(f\"Number of missing values in 'location': {missing_values}\")\n"
      ],
      "metadata": {
        "colab": {
          "base_uri": "https://localhost:8080/",
          "height": 0
        },
        "id": "xsMxqeKPXprU",
        "outputId": "2fbfc976-710d-45dc-e204-d18b4f87d9ec"
      },
      "execution_count": 117,
      "outputs": [
        {
          "output_type": "stream",
          "name": "stdout",
          "text": [
            "Number of missing values in 'location': 38261\n"
          ]
        }
      ]
    },
    {
      "cell_type": "code",
      "source": [
        "import geopandas as gpd\n",
        "from shapely.geometry import Point\n",
        "import numpy as np\n",
        "\n",
        "# Check for missing or null values in the 'location' column\n",
        "df['location'].fillna('', inplace=True)  # Fill missing values with empty string\n",
        "\n",
        "# Clean and validate the 'location' values\n",
        "# Example: Extract latitude and longitude values\n",
        "df['latitude'] = df['location'].apply(lambda loc: loc.split(',')[0] if ',' in loc else '')\n",
        "df['longitude'] = df['location'].apply(lambda loc: loc.split(',')[1] if ',' in loc else '')\n",
        "\n",
        "# Replace non-numeric values with NaN\n",
        "df['latitude'] = pd.to_numeric(df['latitude'], errors='coerce')\n",
        "df['longitude'] = pd.to_numeric(df['longitude'], errors='coerce')\n",
        "\n",
        "# Filter out rows with missing or invalid latitude/longitude values\n",
        "df = df[~np.isnan(df['latitude']) & ~np.isnan(df['longitude'])]\n",
        "\n",
        "# Create Point geometries from latitude and longitude\n",
        "df['geometry'] = df.apply(lambda row: Point(row['longitude'], row['latitude']), axis=1)\n",
        "\n",
        "# Create the GeoDataFrame\n",
        "gdf = gpd.GeoDataFrame(df, geometry='geometry')\n",
        "\n",
        "# Display the GeoDataFrame\n",
        "print(gdf)\n"
      ],
      "metadata": {
        "colab": {
          "base_uri": "https://localhost:8080/",
          "height": 0
        },
        "id": "md7vmKVzf9Eo",
        "outputId": "88a6c5f6-755c-42cc-a98b-b157595db2d4"
      },
      "execution_count": 127,
      "outputs": [
        {
          "output_type": "stream",
          "name": "stdout",
          "text": [
            "                         id create_date         username  \\\n",
            "3900    1387288379155430000  2023-04-28          ssrjazz   \n",
            "6727    1387335590375420000  2023-04-28       abdulmalig   \n",
            "8372    1388135633269390000  2023-04-30       studio2702   \n",
            "13515   1389505107234980000  2023-05-04       rohitasm17   \n",
            "15372   1389528930869200000  2023-05-04         soresage   \n",
            "19631   1390040673777290000  2023-05-05      ton65jacobs   \n",
            "20369   1390053814246450000  2023-05-05         soresage   \n",
            "20860   1390662189384540000  2023-05-07       Bharat_J25   \n",
            "21747   1390710462090710000  2023-05-07        PaulMcGee   \n",
            "24825   1390773812904560000  2023-05-07        i4u090909   \n",
            "28737   1391119835346570000  2023-05-08     IamDurgesh__   \n",
            "31762   1391839941781560000  2023-05-10  oguntayoomobola   \n",
            "38121   1393600362507010000  2023-05-15      RustyMowery   \n",
            "45153   1395020101104110000  2023-05-19        Zindoctor   \n",
            "45223   1395019656335800000  2023-05-19     T1TaN1uM4_22   \n",
            "45789   1395042175662970000  2023-05-19    swatimehrotra   \n",
            "45856   1395041698300920000  2023-05-19    swatimehrotra   \n",
            "46129   1395042413232600000  2023-05-19    swatimehrotra   \n",
            "50279   1395759128954290000  2023-05-21   haneef_andaman   \n",
            "51412   1395776212467740000  2023-05-21     T1TaN1uM4_22   \n",
            "60028   1397256961209420000  2023-05-25     SaashaSingh1   \n",
            "63540   1397618434297440000  2023-05-26           akams_   \n",
            "66256   1397654734899660000  2023-05-26      chinhdangvu   \n",
            "69354   1397852257417270000  2023-05-27         BongkotN   \n",
            "71772   1398382647877850000  2023-05-28     agusset1awan   \n",
            "71903   1398381726599020000  2023-05-28     SaashaSingh1   \n",
            "73983   1398634269484840000  2023-05-29         channisi   \n",
            "82342   1399820000000000000  2023-05-01         GatErast   \n",
            "84022   1399840000000000000  2023-05-01       MR_PUNJABI   \n",
            "85078   1399850000000000000  2023-05-01  Daredevilsprmcy   \n",
            "85693   1400190000000000000  2023-05-02     uompatrick62   \n",
            "85991   1400190000000000000  2023-05-02     uompatrick62   \n",
            "88226   1400220000000000000  2023-05-02     Kenosha_News   \n",
            "89490   1400440000000000000  2023-05-03       unlvgrad03   \n",
            "100505  1401880000000000000  2023-05-07       iDineshRoy   \n",
            "100871  1401880000000000000  2023-05-07        rahulpuri   \n",
            "105325  1402330000000000000  2023-05-08      chinhdangvu   \n",
            "106067  1402370000000000000  2023-05-08     StarsOfCovid   \n",
            "113078  1403270000000000000  2023-05-11             cerw   \n",
            "113972  1403280000000000000  2023-05-11       abdulmalig   \n",
            "116134  1403830000000000000  2023-05-12         rmendez1   \n",
            "118587  1404170000000000000  2023-05-13               pg   \n",
            "120619  1404190000000000000  2023-05-13      chinhdangvu   \n",
            "120853  1404200000000000000  2023-05-13           JPWard   \n",
            "123573  1404520000000000000  2023-05-31      Whitney_Mic   \n",
            "\n",
            "                           location  \\\n",
            "3900       38.95188100,-92.32978400   \n",
            "6727           14.149305,100.612188   \n",
            "8372        13.5795340, 100.7936110   \n",
            "13515        22.0286989, 82.9579890   \n",
            "15372          43.187391,-79.225681   \n",
            "19631              51.496066,5.6646   \n",
            "20369          43.187391,-79.225681   \n",
            "20860          14.156482, 79.840355   \n",
            "21747           53.461579,-2.414615   \n",
            "24825           24.638458,46.727331   \n",
            "28737        12.8723750, 77.4305570   \n",
            "31762             6.608413,3.350717   \n",
            "38121            37.3317, -122.0307   \n",
            "45153            49.497753,7.593849   \n",
            "45223        -32.005964, 146.150231   \n",
            "45789           28.658601,77.361158   \n",
            "45856           28.658601,77.361158   \n",
            "46129           28.658601,77.361158   \n",
            "50279           13.236891,92.974681   \n",
            "51412        -32.005964, 146.150231   \n",
            "60028       9810000599 , 7895555551   \n",
            "63540           -1.284207,36.897008   \n",
            "66256           49.272629,-0.257865   \n",
            "69354          13.804403,100.609867   \n",
            "71772          -6.170134,106.824167   \n",
            "71903       9810000599 , 7895555551   \n",
            "73983          14.684431,120.983468   \n",
            "82342            1.096855,36.701918   \n",
            "84022                39.953917, -76   \n",
            "85078          40.607716,-74.053249   \n",
            "85693          35.347862,-80.633498   \n",
            "85991          35.347862,-80.633498   \n",
            "88226          42.582970,-87.819992   \n",
            "89490         36.079155,-115.031136   \n",
            "100505       -37.797549,144.9047828   \n",
            "100871          19.053737,72.826761   \n",
            "105325          49.272629,-0.257865   \n",
            "106067        51.4520354,-1.2831692   \n",
            "113078        -32.036807,115.754010   \n",
            "113972         14.149305,100.612188   \n",
            "116134        31.707616,-106.192144   \n",
            "118587          59.723915,17.770075   \n",
            "120619          49.272629,-0.257865   \n",
            "120853          53.413398,-2.628409   \n",
            "123573  0.0, 0.0, Plural Zed, Alpha   \n",
            "\n",
            "                                             clean_tweets  compound  negative  \\\n",
            "3900           see choic right peep understand right end     0.0000     0.000   \n",
            "6727    achiev govern target acquir million covid19 va...   -0.4588     0.250   \n",
            "8372                        stop fanci word battl covid19   -0.2960     0.355   \n",
            "13515           ipl got suspend due covid19 cricket lover    0.3612     0.207   \n",
            "15372   bitch ukrainian fit influenc brand covid19 hoa...   -0.5267     0.339   \n",
            "19631                                          weltrusten    0.0000     0.000   \n",
            "20369   come soon purol thrill host workplac vaccin cl...    0.3612     0.000   \n",
            "20860   rais fund famili affect covid19 wherein breadw...    0.0000     0.000   \n",
            "21747            cours uk govern bulli covid19 long money    0.0000     0.000   \n",
            "24825   covid19 unleash devast second wave india gover...    0.0000     0.000   \n",
            "28737   cdc updat public guidelin friday mention sar c...    0.0000     0.000   \n",
            "31762   break fg announc new covid19 restrict public g...   -0.3818     0.271   \n",
            "38121   trump melania got covid19 vaccin januari annou...    0.0000     0.000   \n",
            "45153    made real progress covid19 mix low vaccin rat...    0.1779     0.141   \n",
            "45223                                  invas alien teach     0.0000     0.000   \n",
            "45789   pleas support small contribut mean big pleas h...    0.6705     0.000   \n",
            "45856   pleas support small contribut mean big pleas h...    0.6705     0.000   \n",
            "46129   pleas support small contribut mean big pleas h...    0.6705     0.000   \n",
            "50279   weekli announc south andaman district th may s...    0.0000     0.000   \n",
            "51412                                           pl start     0.0000     0.000   \n",
            "60028   unit state lead way vaccin distribut around gl...    0.0258     0.170   \n",
            "63540   new statement biden task intellig commun redou...    0.0000     0.000   \n",
            "66256   lie one think anyth cover biden peopl still tr...    0.4019     0.000   \n",
            "69354   statement one safe everyon safe need global re...    0.7003     0.000   \n",
            "71772   malaysia pm order total lockdown amid covid19 ...    0.0000     0.000   \n",
            "71903   let join hand work togeth firmli advanc intern...    0.6597     0.000   \n",
            "73983   ph high covid19 recoveri rate fact overlook co...    0.0000     0.000   \n",
            "82342   mani night club oper past pm time set covid19 ...   -0.3818     0.224   \n",
            "84022   employe file lawsuit texa hospit mandat covid1...   -0.2263     0.213   \n",
            "85078   moderna partner thermo fisher scale covid19 va...    0.0000     0.000   \n",
            "85693   refer pandem viru wuhan peopl republ china cov...    0.0000     0.000   \n",
            "85991   refer pandem viru wuhan peopl republ china cov...    0.0000     0.000   \n",
            "88226   world lead covid19 vaccin may offer last prote...    0.3818     0.000   \n",
            "89490   travel stress free new covid19 abbott binaxnow...    0.1280     0.155   \n",
            "100505    surviv lost sensat tast smell sen recov complet   -0.3182     0.247   \n",
            "100871  well glad vaccin strategi term distribut sort ...    0.7906     0.000   \n",
            "105325  scientif report nation laboratori found plausi...   -0.3400     0.211   \n",
            "106067                               anti vaxxer job nice    0.1280     0.324   \n",
            "113078  wa covid19 updat friday june offici inform cov...    0.0000     0.000   \n",
            "113972  bma increas capac transport servic covid19 pat...    0.0000     0.000   \n",
            "116134  woman fail prove covid19 vaccin made magnet oh...   -0.5423     0.280   \n",
            "118587  covid19 death year alreadi eclips toll intensi...   -0.5994     0.281   \n",
            "120619  biden call access wuhan lab determin whether c...    0.0000     0.000   \n",
            "120853  covid19 eas lockdown restrict england delay fo...   -0.5994     0.380   \n",
            "123573  covid19 vaccin safe effect three vaccin highli...    0.4588     0.000   \n",
            "\n",
            "        neutral  positive sentiment final_output      latitude     longitude  \\\n",
            "3900      1.000     0.000   Neutral     Negative  3.895188e+01 -9.232978e+01   \n",
            "6727      0.750     0.000  Negative     Negative  1.414931e+01  1.006122e+02   \n",
            "8372      0.645     0.000  Negative     Negative  1.357953e+01  1.007936e+02   \n",
            "13515     0.450     0.342  Positive     Positive  2.202870e+01  8.295799e+01   \n",
            "15372     0.517     0.144  Negative     Negative  4.318739e+01 -7.922568e+01   \n",
            "19631     1.000     0.000   Neutral     Negative  5.149607e+01  5.664600e+00   \n",
            "20369     0.762     0.238  Positive     Positive  4.318739e+01 -7.922568e+01   \n",
            "20860     1.000     0.000   Neutral     Negative  1.415648e+01  7.984036e+01   \n",
            "21747     1.000     0.000   Neutral     Negative  5.346158e+01 -2.414615e+00   \n",
            "24825     1.000     0.000   Neutral     Negative  2.463846e+01  4.672733e+01   \n",
            "28737     1.000     0.000   Neutral     Negative  1.287237e+01  7.743056e+01   \n",
            "31762     0.729     0.000  Negative     Negative  6.608413e+00  3.350717e+00   \n",
            "38121     1.000     0.000   Neutral     Negative  3.733170e+01 -1.220307e+02   \n",
            "45153     0.671     0.188  Positive     Positive  4.949775e+01  7.593849e+00   \n",
            "45223     1.000     0.000   Neutral     Negative -3.200596e+01  1.461502e+02   \n",
            "45789     0.552     0.448  Positive     Positive  2.865860e+01  7.736116e+01   \n",
            "45856     0.552     0.448  Positive     Positive  2.865860e+01  7.736116e+01   \n",
            "46129     0.552     0.448  Positive     Positive  2.865860e+01  7.736116e+01   \n",
            "50279     1.000     0.000   Neutral     Negative  1.323689e+01  9.297468e+01   \n",
            "51412     1.000     0.000   Neutral     Negative -3.200596e+01  1.461502e+02   \n",
            "60028     0.654     0.176  Positive     Positive  9.810001e+09  7.895556e+09   \n",
            "63540     1.000     0.000   Neutral     Negative -1.284207e+00  3.689701e+01   \n",
            "66256     0.787     0.213  Positive     Positive  4.927263e+01 -2.578650e-01   \n",
            "69354     0.580     0.420  Positive     Positive  1.380440e+01  1.006099e+02   \n",
            "71772     1.000     0.000   Neutral     Negative -6.170134e+00  1.068242e+02   \n",
            "71903     0.671     0.329  Positive     Positive  9.810001e+09  7.895556e+09   \n",
            "73983     1.000     0.000   Neutral     Negative  1.468443e+01  1.209835e+02   \n",
            "82342     0.776     0.000  Negative     Negative  1.096855e+00  3.670192e+01   \n",
            "84022     0.787     0.000  Negative     Negative  3.995392e+01 -7.600000e+01   \n",
            "85078     1.000     0.000   Neutral     Negative  4.060772e+01 -7.405325e+01   \n",
            "85693     1.000     0.000   Neutral     Negative  3.534786e+01 -8.063350e+01   \n",
            "85991     1.000     0.000   Neutral     Negative  3.534786e+01 -8.063350e+01   \n",
            "88226     0.822     0.178  Positive     Positive  4.258297e+01 -8.781999e+01   \n",
            "89490     0.663     0.182  Positive     Positive  3.607916e+01 -1.150311e+02   \n",
            "100505    0.753     0.000  Negative     Negative -3.779755e+01  1.449048e+02   \n",
            "100871    0.467     0.533  Positive     Positive  1.905374e+01  7.282676e+01   \n",
            "105325    0.789     0.000  Negative     Negative  4.927263e+01 -2.578650e-01   \n",
            "106067    0.282     0.394  Positive     Positive  5.145204e+01 -1.283169e+00   \n",
            "113078    1.000     0.000   Neutral     Negative -3.203681e+01  1.157540e+02   \n",
            "113972    1.000     0.000   Neutral     Negative  1.414931e+01  1.006122e+02   \n",
            "116134    0.720     0.000  Negative     Negative  3.170762e+01 -1.061921e+02   \n",
            "118587    0.719     0.000  Negative     Negative  5.972391e+01  1.777007e+01   \n",
            "120619    1.000     0.000   Neutral     Negative  4.927263e+01 -2.578650e-01   \n",
            "120853    0.620     0.000  Negative     Negative  5.341340e+01 -2.628409e+00   \n",
            "123573    0.636     0.364  Positive     Positive  0.000000e+00  0.000000e+00   \n",
            "\n",
            "                                         geometry  \n",
            "3900                   POINT (-92.32978 38.95188)  \n",
            "6727                   POINT (100.61219 14.14931)  \n",
            "8372                   POINT (100.79361 13.57953)  \n",
            "13515                   POINT (82.95799 22.02870)  \n",
            "15372                  POINT (-79.22568 43.18739)  \n",
            "19631                    POINT (5.66460 51.49607)  \n",
            "20369                  POINT (-79.22568 43.18739)  \n",
            "20860                   POINT (79.84036 14.15648)  \n",
            "21747                   POINT (-2.41461 53.46158)  \n",
            "24825                   POINT (46.72733 24.63846)  \n",
            "28737                   POINT (77.43056 12.87237)  \n",
            "31762                     POINT (3.35072 6.60841)  \n",
            "38121                 POINT (-122.03070 37.33170)  \n",
            "45153                    POINT (7.59385 49.49775)  \n",
            "45223                 POINT (146.15023 -32.00596)  \n",
            "45789                   POINT (77.36116 28.65860)  \n",
            "45856                   POINT (77.36116 28.65860)  \n",
            "46129                   POINT (77.36116 28.65860)  \n",
            "50279                   POINT (92.97468 13.23689)  \n",
            "51412                 POINT (146.15023 -32.00596)  \n",
            "60028   POINT (7895555551.00000 9810000599.00000)  \n",
            "63540                   POINT (36.89701 -1.28421)  \n",
            "66256                   POINT (-0.25787 49.27263)  \n",
            "69354                  POINT (100.60987 13.80440)  \n",
            "71772                  POINT (106.82417 -6.17013)  \n",
            "71903   POINT (7895555551.00000 9810000599.00000)  \n",
            "73983                  POINT (120.98347 14.68443)  \n",
            "82342                    POINT (36.70192 1.09685)  \n",
            "84022                  POINT (-76.00000 39.95392)  \n",
            "85078                  POINT (-74.05325 40.60772)  \n",
            "85693                  POINT (-80.63350 35.34786)  \n",
            "85991                  POINT (-80.63350 35.34786)  \n",
            "88226                  POINT (-87.81999 42.58297)  \n",
            "89490                 POINT (-115.03114 36.07916)  \n",
            "100505                POINT (144.90478 -37.79755)  \n",
            "100871                  POINT (72.82676 19.05374)  \n",
            "105325                  POINT (-0.25787 49.27263)  \n",
            "106067                  POINT (-1.28317 51.45204)  \n",
            "113078                POINT (115.75401 -32.03681)  \n",
            "113972                 POINT (100.61219 14.14931)  \n",
            "116134                POINT (-106.19214 31.70762)  \n",
            "118587                  POINT (17.77007 59.72391)  \n",
            "120619                  POINT (-0.25787 49.27263)  \n",
            "120853                  POINT (-2.62841 53.41340)  \n",
            "123573                    POINT (0.00000 0.00000)  \n"
          ]
        },
        {
          "output_type": "stream",
          "name": "stderr",
          "text": [
            "<ipython-input-127-26fa31f2a59e>:21: SettingWithCopyWarning: \n",
            "A value is trying to be set on a copy of a slice from a DataFrame.\n",
            "Try using .loc[row_indexer,col_indexer] = value instead\n",
            "\n",
            "See the caveats in the documentation: https://pandas.pydata.org/pandas-docs/stable/user_guide/indexing.html#returning-a-view-versus-a-copy\n",
            "  df['geometry'] = df.apply(lambda row: Point(row['longitude'], row['latitude']), axis=1)\n"
          ]
        }
      ]
    },
    {
      "cell_type": "code",
      "source": [
        "import geopandas as gpd\n",
        "from shapely.geometry import Point\n",
        "\n",
        "# Check for missing or null values in the 'location' column\n",
        "df['location'].fillna('', inplace=True)  # Fill missing values with empty string\n",
        "\n",
        "# Filter out rows with empty 'location' values\n",
        "df = df[df['location'] != '']\n",
        "\n",
        "# Convert 'location' values to Point geometries\n",
        "try:\n",
        "    df['geometry'] = df['location'].apply(lambda loc: Point(float(loc.split(',')[0]), float(loc.split(',')[1])))\n",
        "    gdf = gpd.GeoDataFrame(df, geometry='geometry')\n",
        "except (ValueError, IndexError):\n",
        "    print(\"Error: Invalid 'location' values. Please ensure the 'location' column contains valid latitude and longitude coordinates.\")\n",
        "\n"
      ],
      "metadata": {
        "colab": {
          "base_uri": "https://localhost:8080/",
          "height": 0
        },
        "id": "b1TJDFURfNrE",
        "outputId": "8b2f15fa-bb52-46ef-eb61-bbbd72f1cef8"
      },
      "execution_count": 124,
      "outputs": [
        {
          "output_type": "stream",
          "name": "stdout",
          "text": [
            "Error: Invalid 'location' values. Please ensure the 'location' column contains valid latitude and longitude coordinates.\n"
          ]
        }
      ]
    },
    {
      "cell_type": "code",
      "source": [
        "world = gpd.read_file(gpd.datasets.get_path('naturalearth_lowres'))\n",
        "fig, ax = plt.subplots(figsize=(10, 6))\n",
        "world.boundary.plot(ax=ax, linewidth=0.8, color='black')\n",
        "gdf.plot(ax=ax, markersize=10, color='red', alpha=0.5)\n",
        "plt.title('Geographical Visualization')\n",
        "plt.xlabel('Longitude')\n",
        "plt.ylabel('Latitude')\n",
        "plt.show()\n"
      ],
      "metadata": {
        "colab": {
          "base_uri": "https://localhost:8080/",
          "height": 617
        },
        "id": "BvsbHZbOeWDv",
        "outputId": "da83a3c3-d000-4cd9-ce5d-2aac4d1e6ea8"
      },
      "execution_count": 128,
      "outputs": [
        {
          "output_type": "stream",
          "name": "stderr",
          "text": [
            "<ipython-input-128-ee2b3f59caf7>:1: FutureWarning: The geopandas.dataset module is deprecated and will be removed in GeoPandas 1.0. You can get the original 'naturalearth_lowres' data from https://www.naturalearthdata.com/downloads/110m-cultural-vectors/.\n",
            "  world = gpd.read_file(gpd.datasets.get_path('naturalearth_lowres'))\n"
          ]
        },
        {
          "output_type": "display_data",
          "data": {
            "text/plain": [
              "<Figure size 1000x600 with 1 Axes>"
            ],
            "image/png": "[encoded data removed]"
          },
          "metadata": {}
        }
      ]
    },
    {
      "cell_type": "code",
      "source": [
        "from shapely.geometry import Point\n",
        "\n",
        "# Drop rows with missing location values\n",
        "df = df.dropna(subset=['location'])\n",
        "\n",
        "# Parse and extract latitude and longitude components\n",
        "df['latitude'] = df['location'].apply(lambda loc: float(loc.split(',')[0].strip()))\n",
        "df['longitude'] = df['location'].apply(lambda loc: float(loc.split(',')[1].strip()))\n",
        "\n",
        "# Create Point geometries\n",
        "df['geometry'] = df.apply(lambda row: Point(row['longitude'], row['latitude']), axis=1)\n",
        "\n",
        "# Convert DataFrame to GeoDataFrame\n",
        "gdf = gpd.GeoDataFrame(df)\n"
      ],
      "metadata": {
        "id": "s5II2rjFeOYT"
      },
      "execution_count": 130,
      "outputs": []
    },
    {
      "cell_type": "code",
      "source": [
        "import geopandas as gpd\n",
        "import matplotlib.pyplot as plt\n",
        "\n",
        "# Assuming you have already created the GeoDataFrame 'gdf' with the geometry column\n",
        "\n",
        "# Read the world shapefile (or any other geospatial data) for background\n",
        "world = gpd.read_file(gpd.datasets.get_path('naturalearth_lowres'))\n",
        "\n",
        "# Plot the world map\n",
        "fig, ax = plt.subplots(figsize=(10, 6))\n",
        "world.plot(ax=ax, color='lightgray', edgecolor='black')\n",
        "\n",
        "# Plot the points from the GeoDataFrame on top of the world map\n",
        "gdf.plot(ax=ax, marker='o', color='red', markersize=5)\n",
        "\n",
        "# Customize the plot\n",
        "plt.title('World Map')\n",
        "plt.xlabel('Longitude')\n",
        "plt.ylabel('Latitude')\n",
        "plt.show()\n"
      ],
      "metadata": {
        "colab": {
          "base_uri": "https://localhost:8080/",
          "height": 617
        },
        "id": "WMtNNhALg-Qf",
        "outputId": "1ad436b1-b869-4cab-caf3-f2aa21375b45"
      },
      "execution_count": 138,
      "outputs": [
        {
          "output_type": "stream",
          "name": "stderr",
          "text": [
            "<ipython-input-138-7c5335b27d56>:7: FutureWarning: The geopandas.dataset module is deprecated and will be removed in GeoPandas 1.0. You can get the original 'naturalearth_lowres' data from https://www.naturalearthdata.com/downloads/110m-cultural-vectors/.\n",
            "  world = gpd.read_file(gpd.datasets.get_path('naturalearth_lowres'))\n"
          ]
        },
        {
          "output_type": "display_data",
          "data": {
            "text/plain": [
              "<Figure size 1000x600 with 1 Axes>"
            ],
            "image/png": "[encoded data removed]"
          },
          "metadata": {}
        }
      ]
    },
    {
      "cell_type": "code",
      "source": [
        "import seaborn as sns\n",
        "import matplotlib.pyplot as plt\n",
        "\n",
        "# Assuming you have a DataFrame 'df' with a column 'sentiment'\n",
        "\n",
        "# Create a countplot of sentiment\n",
        "sns.countplot(data=df, x='sentiment')\n",
        "\n",
        "# Customize the plot\n",
        "plt.title('Sentiment Distribution')\n",
        "plt.xlabel('Sentiment')\n",
        "plt.ylabel('Count')\n",
        "\n",
        "# Show the plot\n",
        "plt.show()\n"
      ],
      "metadata": {
        "colab": {
          "base_uri": "https://localhost:8080/",
          "height": 524
        },
        "id": "JWLL1gYTg-TQ",
        "outputId": "ee8efec0-b188-4e73-927d-76d3421fcde2"
      },
      "execution_count": 133,
      "outputs": [
        {
          "output_type": "display_data",
          "data": {
            "text/plain": [
              "<Figure size 800x550 with 1 Axes>"
            ],
            "image/png": "[encoded data removed]"
          },
          "metadata": {}
        }
      ]
    },
    {
      "cell_type": "code",
      "source": [
        "import matplotlib.pyplot as plt\n",
        "\n",
        "# Assuming you have the counts of positive, negative, and neutral sentiments\n",
        "positive_count = 100\n",
        "negative_count = 80\n",
        "neutral_count = 120\n",
        "\n",
        "# Define the labels and counts\n",
        "labels = ['Positive', 'Negative', 'Neutral']\n",
        "counts = [positive_count, negative_count, neutral_count]\n",
        "\n",
        "# Create a bar plot\n",
        "plt.bar(labels, counts)\n",
        "\n",
        "# Customize the plot\n",
        "plt.title('Sentiment Distribution')\n",
        "plt.xlabel('Sentiment')\n",
        "plt.ylabel('Count')\n",
        "\n",
        "# Show the plot\n",
        "plt.show()\n"
      ],
      "metadata": {
        "colab": {
          "base_uri": "https://localhost:8080/",
          "height": 524
        },
        "id": "MTxOGcfqh5t6",
        "outputId": "525ef6ae-cbb6-4f27-9eb4-6d084d149cb1"
      },
      "execution_count": 135,
      "outputs": [
        {
          "output_type": "display_data",
          "data": {
            "text/plain": [
              "<Figure size 800x550 with 1 Axes>"
            ],
            "image/png": "[encoded data removed]"
          },
          "metadata": {}
        }
      ]
    },
    {
      "cell_type": "code",
      "source": [
        "import numpy as np\n",
        "\n",
        "# Assuming you have the sentiment scores for positive, negative, and neutral sentiments\n",
        "positive_scores = np.random.normal(0.5, 0.1, 1000)\n",
        "negative_scores = np.random.normal(-0.5, 0.1, 1000)\n",
        "neutral_scores = np.random.normal(0, 0.1, 1000)\n",
        "\n",
        "# Create density plots for each sentiment\n",
        "plt.figure(figsize=(8, 6))\n",
        "plt.hist(positive_scores, density=True, bins=30, alpha=0.5, label='Positive')\n",
        "plt.hist(negative_scores, density=True, bins=30, alpha=0.5, label='Negative')\n",
        "plt.hist(neutral_scores, density=True, bins=30, alpha=0.5, label='Neutral')\n",
        "\n",
        "# Customize the plot\n",
        "plt.title('Sentiment Density Plot')\n",
        "plt.xlabel('Sentiment Score')\n",
        "plt.ylabel('Density')\n",
        "plt.legend()\n",
        "\n",
        "# Show the plot\n",
        "plt.show()\n"
      ],
      "metadata": {
        "colab": {
          "base_uri": "https://localhost:8080/",
          "height": 562
        },
        "id": "ZeK2D0RXh50E",
        "outputId": "7348bce8-02b0-4372-c814-768e43232b49"
      },
      "execution_count": 136,
      "outputs": [
        {
          "output_type": "display_data",
          "data": {
            "text/plain": [
              "<Figure size 800x600 with 1 Axes>"
            ],
            "image/png": "[encoded data removed]"
          },
          "metadata": {}
        }
      ]
    },
    {
      "cell_type": "code",
      "source": [
        "print('Accuracy - Positive: {:.2f}%'.format(accuracy_positive))\n",
        "print('Accuracy - Negative: {:.2f}%'.format(accuracy_negative))\n",
        "print('Accuracy - Neutral: {:.2f}%'.format(accuracy_neutral))\n",
        "print('Accuracy - Total: {:.2f}%'.format(accuracy_total))\n"
      ],
      "metadata": {
        "colab": {
          "base_uri": "https://localhost:8080/",
          "height": 0
        },
        "id": "CANPzj8yWQOR",
        "outputId": "39bf3bfb-f355-4c48-a346-76a71df42fec"
      },
      "execution_count": 142,
      "outputs": [
        {
          "output_type": "stream",
          "name": "stdout",
          "text": [
            "Accuracy - Positive: 30.70%\n",
            "Accuracy - Negative: 24.34%\n",
            "Accuracy - Neutral: 44.96%\n",
            "Accuracy - Total: 55.04%\n"
          ]
        }
      ]
    },
    {
      "cell_type": "code",
      "source": [
        "# Assuming you have a DataFrame named df with the desired format\n",
        "\n",
        "# Count the number of positive and negative sentiments\n",
        "positive_count = df[df['sentiment'] == 'Positive'].shape[0]\n",
        "negative_count = df[df['sentiment'] == 'Negative'].shape[0]\n",
        "\n",
        "# Determine the overall sentiment based on the counts\n",
        "if positive_count > negative_count:\n",
        "    overall_output = 'Positive'\n",
        "elif positive_count < negative_count:\n",
        "    overall_output = 'Negative'\n",
        "else:\n",
        "    overall_output = 'Neutral'\n",
        "\n",
        "# Print the overall output\n",
        "print(\"Overall Output:\", overall_output)\n"
      ],
      "metadata": {
        "colab": {
          "base_uri": "https://localhost:8080/",
          "height": 0
        },
        "id": "E2N0cdxvmMgR",
        "outputId": "0bd5fd11-da2d-4e3d-c066-859d8bcba817"
      },
      "execution_count": 144,
      "outputs": [
        {
          "output_type": "stream",
          "name": "stdout",
          "text": [
            "Overall Output: Positive\n"
          ]
        }
      ]
    },
    {
      "cell_type": "code",
      "source": [
        "import pandas as pd\n",
        "from sklearn.model_selection import train_test_split\n",
        "\n",
        "\n",
        "# Split the data into features (X) and target (y) variables\n",
        "X = df['clean_tweets']\n",
        "y = df['sentiment']\n",
        "\n",
        "# Split the data into training and testing sets\n",
        "X_train, X_test, y_train, y_test = train_test_split(X, y, test_size=0.2, random_state=42)\n"
      ],
      "metadata": {
        "id": "7P8eXgfMp6Gv"
      },
      "execution_count": 145,
      "outputs": []
    },
    {
      "cell_type": "code",
      "source": [
        "from sklearn.feature_extraction.text import TfidfVectorizer\n",
        "from sklearn.model_selection import train_test_split\n",
        "from sklearn.metrics import precision_score, recall_score, accuracy_score, f1_score\n",
        "from sklearn.naive_bayes import MultinomialNB\n",
        "from sklearn.svm import SVC\n",
        "from sklearn.linear_model import LogisticRegression\n",
        "\n",
        "# Preprocess your text data and split into train/test sets\n",
        "vectorizer = TfidfVectorizer()  # Use TF-IDF vectorizer\n",
        "X = vectorizer.fit_transform(df['clean_tweets'])  # Assuming 'clean_tweets' column contains preprocessed text\n",
        "y = df['sentiment']  # Assuming 'sentiment' column contains target labels\n",
        "\n",
        "X_train, X_test, y_train, y_test = train_test_split(X, y, test_size=0.2, random_state=42)\n",
        "\n",
        "# Initialize the models\n",
        "nb_model = MultinomialNB()\n",
        "svm_model = SVC()\n",
        "lr_model = LogisticRegression()\n",
        "\n",
        "# Train the models\n",
        "nb_model.fit(X_train, y_train)\n",
        "svm_model.fit(X_train, y_train)\n",
        "lr_model.fit(X_train, y_train)\n",
        "\n",
        "# Make predictions\n",
        "nb_pred = nb_model.predict(X_test)\n",
        "svm_pred = svm_model.predict(X_test)\n",
        "lr_pred = lr_model.predict(X_test)\n",
        "\n",
        "# Evaluate the models\n",
        "nb_precision = precision_score(y_test, nb_pred, average='macro')\n",
        "nb_recall = recall_score(y_test, nb_pred, average='macro')\n",
        "nb_accuracy = accuracy_score(y_test, nb_pred)\n",
        "nb_f1 = f1_score(y_test, nb_pred, average='macro')\n",
        "\n",
        "svm_precision = precision_score(y_test, svm_pred, average='macro')\n",
        "svm_recall = recall_score(y_test, svm_pred, average='macro')\n",
        "svm_accuracy = accuracy_score(y_test, svm_pred)\n",
        "svm_f1 = f1_score(y_test, svm_pred, average='macro')\n",
        "\n",
        "lr_precision = precision_score(y_test, lr_pred, average='macro')\n",
        "lr_recall = recall_score(y_test, lr_pred, average='macro')\n",
        "lr_accuracy = accuracy_score(y_test, lr_pred)\n",
        "lr_f1 = f1_score(y_test, lr_pred, average='macro')\n",
        "\n",
        "# Print the evaluation metrics\n",
        "print(\"Naive Bayes:\")\n",
        "print(\"Precision:\", nb_precision)\n",
        "print(\"Recall:\", nb_recall)\n",
        "print(\"Accuracy:\", nb_accuracy)\n",
        "print(\"F1 Score:\", nb_f1)\n",
        "print()\n",
        "\n",
        "print(\"SVM:\")\n",
        "print(\"Precision:\", svm_precision)\n",
        "print(\"Recall:\", svm_recall)\n",
        "print(\"Accuracy:\", svm_accuracy)\n",
        "print(\"F1 Score:\", svm_f1)\n",
        "print()\n",
        "\n",
        "print(\"Logistic Regression:\")\n",
        "print(\"Precision:\", lr_precision)\n",
        "print(\"Recall:\", lr_recall)\n",
        "print(\"Accuracy:\", lr_accuracy)\n",
        "print(\"F1 Score:\", lr_f1)\n"
      ],
      "metadata": {
        "colab": {
          "base_uri": "https://localhost:8080/",
          "height": 0
        },
        "id": "7y8ca_Tfp-Pa",
        "outputId": "cfaaa4c7-13da-4927-8bfa-ffa89f1e09ee"
      },
      "execution_count": 147,
      "outputs": [
        {
          "output_type": "stream",
          "name": "stdout",
          "text": [
            "Naive Bayes:\n",
            "Precision: 0.30952380952380953\n",
            "Recall: 0.4166666666666667\n",
            "Accuracy: 0.4444444444444444\n",
            "F1 Score: 0.34848484848484845\n",
            "\n",
            "SVM:\n",
            "Precision: 0.14814814814814814\n",
            "Recall: 0.3333333333333333\n",
            "Accuracy: 0.4444444444444444\n",
            "F1 Score: 0.2051282051282051\n",
            "\n",
            "Logistic Regression:\n",
            "Precision: 0.14814814814814814\n",
            "Recall: 0.3333333333333333\n",
            "Accuracy: 0.4444444444444444\n",
            "F1 Score: 0.2051282051282051\n"
          ]
        },
        {
          "output_type": "stream",
          "name": "stderr",
          "text": [
            "/usr/local/lib/python3.10/dist-packages/sklearn/metrics/_classification.py:1344: UndefinedMetricWarning: Precision is ill-defined and being set to 0.0 in labels with no predicted samples. Use `zero_division` parameter to control this behavior.\n",
            "  _warn_prf(average, modifier, msg_start, len(result))\n",
            "/usr/local/lib/python3.10/dist-packages/sklearn/metrics/_classification.py:1344: UndefinedMetricWarning: Precision is ill-defined and being set to 0.0 in labels with no predicted samples. Use `zero_division` parameter to control this behavior.\n",
            "  _warn_prf(average, modifier, msg_start, len(result))\n",
            "/usr/local/lib/python3.10/dist-packages/sklearn/metrics/_classification.py:1344: UndefinedMetricWarning: Precision is ill-defined and being set to 0.0 in labels with no predicted samples. Use `zero_division` parameter to control this behavior.\n",
            "  _warn_prf(average, modifier, msg_start, len(result))\n"
          ]
        }
      ]
    },
    {
      "cell_type": "code",
      "source": [
        "from sklearn.metrics import classification_report\n",
        "\n",
        "# Make predictions on the testing data\n",
        "nb_predictions = nb_model.predict(X_test)\n",
        "svm_predictions = svm_model.predict(X_test)\n",
        "lr_predictions = lr_model.predict(X_test)\n",
        "\n",
        "# Print classification report for each model\n",
        "print(\"Naive Bayes:\")\n",
        "print(classification_report(y_test, nb_predictions))\n",
        "\n",
        "print(\"SVM:\")\n",
        "print(classification_report(y_test, svm_predictions))\n",
        "\n",
        "print(\"Logistic Regression:\")\n",
        "print(classification_report(y_test, lr_predictions))\n"
      ],
      "metadata": {
        "colab": {
          "base_uri": "https://localhost:8080/",
          "height": 0
        },
        "id": "FXngumFnqt1F",
        "outputId": "b52d2a51-8b52-4702-9f56-c41e9f6b68d7"
      },
      "execution_count": 148,
      "outputs": [
        {
          "output_type": "stream",
          "name": "stdout",
          "text": [
            "Naive Bayes:\n",
            "              precision    recall  f1-score   support\n",
            "\n",
            "    Negative       0.00      0.00      0.00         3\n",
            "     Neutral       0.43      0.75      0.55         4\n",
            "    Positive       0.50      0.50      0.50         2\n",
            "\n",
            "    accuracy                           0.44         9\n",
            "   macro avg       0.31      0.42      0.35         9\n",
            "weighted avg       0.30      0.44      0.35         9\n",
            "\n",
            "SVM:\n",
            "              precision    recall  f1-score   support\n",
            "\n",
            "    Negative       0.00      0.00      0.00         3\n",
            "     Neutral       0.44      1.00      0.62         4\n",
            "    Positive       0.00      0.00      0.00         2\n",
            "\n",
            "    accuracy                           0.44         9\n",
            "   macro avg       0.15      0.33      0.21         9\n",
            "weighted avg       0.20      0.44      0.27         9\n",
            "\n",
            "Logistic Regression:\n",
            "              precision    recall  f1-score   support\n",
            "\n",
            "    Negative       0.00      0.00      0.00         3\n",
            "     Neutral       0.44      1.00      0.62         4\n",
            "    Positive       0.00      0.00      0.00         2\n",
            "\n",
            "    accuracy                           0.44         9\n",
            "   macro avg       0.15      0.33      0.21         9\n",
            "weighted avg       0.20      0.44      0.27         9\n",
            "\n"
          ]
        },
        {
          "output_type": "stream",
          "name": "stderr",
          "text": [
            "/usr/local/lib/python3.10/dist-packages/sklearn/metrics/_classification.py:1344: UndefinedMetricWarning: Precision and F-score are ill-defined and being set to 0.0 in labels with no predicted samples. Use `zero_division` parameter to control this behavior.\n",
            "  _warn_prf(average, modifier, msg_start, len(result))\n",
            "/usr/local/lib/python3.10/dist-packages/sklearn/metrics/_classification.py:1344: UndefinedMetricWarning: Precision and F-score are ill-defined and being set to 0.0 in labels with no predicted samples. Use `zero_division` parameter to control this behavior.\n",
            "  _warn_prf(average, modifier, msg_start, len(result))\n",
            "/usr/local/lib/python3.10/dist-packages/sklearn/metrics/_classification.py:1344: UndefinedMetricWarning: Precision and F-score are ill-defined and being set to 0.0 in labels with no predicted samples. Use `zero_division` parameter to control this behavior.\n",
            "  _warn_prf(average, modifier, msg_start, len(result))\n",
            "/usr/local/lib/python3.10/dist-packages/sklearn/metrics/_classification.py:1344: UndefinedMetricWarning: Precision and F-score are ill-defined and being set to 0.0 in labels with no predicted samples. Use `zero_division` parameter to control this behavior.\n",
            "  _warn_prf(average, modifier, msg_start, len(result))\n",
            "/usr/local/lib/python3.10/dist-packages/sklearn/metrics/_classification.py:1344: UndefinedMetricWarning: Precision and F-score are ill-defined and being set to 0.0 in labels with no predicted samples. Use `zero_division` parameter to control this behavior.\n",
            "  _warn_prf(average, modifier, msg_start, len(result))\n",
            "/usr/local/lib/python3.10/dist-packages/sklearn/metrics/_classification.py:1344: UndefinedMetricWarning: Precision and F-score are ill-defined and being set to 0.0 in labels with no predicted samples. Use `zero_division` parameter to control this behavior.\n",
            "  _warn_prf(average, modifier, msg_start, len(result))\n",
            "/usr/local/lib/python3.10/dist-packages/sklearn/metrics/_classification.py:1344: UndefinedMetricWarning: Precision and F-score are ill-defined and being set to 0.0 in labels with no predicted samples. Use `zero_division` parameter to control this behavior.\n",
            "  _warn_prf(average, modifier, msg_start, len(result))\n",
            "/usr/local/lib/python3.10/dist-packages/sklearn/metrics/_classification.py:1344: UndefinedMetricWarning: Precision and F-score are ill-defined and being set to 0.0 in labels with no predicted samples. Use `zero_division` parameter to control this behavior.\n",
            "  _warn_prf(average, modifier, msg_start, len(result))\n",
            "/usr/local/lib/python3.10/dist-packages/sklearn/metrics/_classification.py:1344: UndefinedMetricWarning: Precision and F-score are ill-defined and being set to 0.0 in labels with no predicted samples. Use `zero_division` parameter to control this behavior.\n",
            "  _warn_prf(average, modifier, msg_start, len(result))\n"
          ]
        }
      ]
    },
    {
      "cell_type": "code",
      "source": [
        "import matplotlib.pyplot as plt\n",
        "\n",
        "# Calculate accuracy for each model\n",
        "accuracy_scores = [accuracy_score(y_test, nb_predictions), accuracy_score(y_test, svm_predictions), accuracy_score(y_test, lr_predictions)]\n",
        "\n",
        "# Plot a bar chart\n",
        "plt.bar(['Naive Bayes', 'SVM', 'Logistic Regression'], accuracy_scores)\n",
        "plt.xlabel('Algorithm')\n",
        "plt.ylabel('Accuracy')\n",
        "plt.title('Accuracy of Sentiment Analysis Algorithms')\n",
        "plt.show()\n"
      ],
      "metadata": {
        "colab": {
          "base_uri": "https://localhost:8080/",
          "height": 524
        },
        "id": "9-nDDI2Pqyaj",
        "outputId": "9f5607d7-ddf6-47fe-bb6c-80aab7725938"
      },
      "execution_count": 149,
      "outputs": [
        {
          "output_type": "display_data",
          "data": {
            "text/plain": [
              "<Figure size 800x550 with 1 Axes>"
            ],
            "image/png": "[encoded data removed]"
          },
          "metadata": {}
        }
      ]
    },
    {
      "cell_type": "code",
      "source": [
        "import matplotlib.pyplot as plt\n",
        "\n",
        "# Calculate the accuracy scores\n",
        "accuracy_scores = [nb_accuracy, svm_accuracy, lr_accuracy]\n",
        "algorithms = ['Naive Bayes', 'SVM', 'Logistic Regression']\n",
        "\n",
        "# Plot the bar chart\n",
        "plt.figure(figsize=(8, 6))\n",
        "plt.bar(algorithms, accuracy_scores)\n",
        "plt.xlabel('Algorithms')\n",
        "plt.ylabel('Accuracy')\n",
        "plt.title('Accuracy Comparison of Sentiment Analysis Algorithms')\n",
        "plt.ylim([0, 1])  # Set the y-axis limits\n",
        "plt.show()\n"
      ],
      "metadata": {
        "colab": {
          "base_uri": "https://localhost:8080/",
          "height": 562
        },
        "id": "WT7w4-JirLDd",
        "outputId": "7185c20f-61dd-46f6-e079-360ac8ede629"
      },
      "execution_count": 150,
      "outputs": [
        {
          "output_type": "display_data",
          "data": {
            "text/plain": [
              "<Figure size 800x600 with 1 Axes>"
            ],
            "image/png": "[encoded data removed]"
          },
          "metadata": {}
        }
      ]
    },
    {
      "cell_type": "code",
      "source": [
        "from sklearn.metrics import classification_report\n",
        "\n",
        "# Generate predictions for each algorithm\n",
        "nb_predictions = nb_model.predict(X_test)\n",
        "svm_predictions = svm_model.predict(X_test)\n",
        "lr_predictions = lr_model.predict(X_test)\n",
        "\n",
        "# Calculate evaluation metrics for each algorithm\n",
        "nb_report = classification_report(y_test, nb_predictions)\n",
        "svm_report = classification_report(y_test, svm_predictions)\n",
        "lr_report = classification_report(y_test, lr_predictions)\n",
        "\n",
        "# Print the evaluation metrics\n",
        "print(\"Naive Bayes Classification Report:\")\n",
        "print(nb_report)\n",
        "print(\"----------------------------------------------------\")\n",
        "print(\"SVM Classification Report:\")\n",
        "print(svm_report)\n",
        "print(\"----------------------------------------------------\")\n",
        "print(\"Logistic Regression Classification Report:\")\n",
        "print(lr_report)\n"
      ],
      "metadata": {
        "colab": {
          "base_uri": "https://localhost:8080/",
          "height": 0
        },
        "id": "VAILKfbWsDCB",
        "outputId": "33820f2c-7194-4465-af6d-8f4de9ee16b5"
      },
      "execution_count": 151,
      "outputs": [
        {
          "output_type": "stream",
          "name": "stdout",
          "text": [
            "Naive Bayes Classification Report:\n",
            "              precision    recall  f1-score   support\n",
            "\n",
            "    Negative       0.00      0.00      0.00         3\n",
            "     Neutral       0.43      0.75      0.55         4\n",
            "    Positive       0.50      0.50      0.50         2\n",
            "\n",
            "    accuracy                           0.44         9\n",
            "   macro avg       0.31      0.42      0.35         9\n",
            "weighted avg       0.30      0.44      0.35         9\n",
            "\n",
            "----------------------------------------------------\n",
            "SVM Classification Report:\n",
            "              precision    recall  f1-score   support\n",
            "\n",
            "    Negative       0.00      0.00      0.00         3\n",
            "     Neutral       0.44      1.00      0.62         4\n",
            "    Positive       0.00      0.00      0.00         2\n",
            "\n",
            "    accuracy                           0.44         9\n",
            "   macro avg       0.15      0.33      0.21         9\n",
            "weighted avg       0.20      0.44      0.27         9\n",
            "\n",
            "----------------------------------------------------\n",
            "Logistic Regression Classification Report:\n",
            "              precision    recall  f1-score   support\n",
            "\n",
            "    Negative       0.00      0.00      0.00         3\n",
            "     Neutral       0.44      1.00      0.62         4\n",
            "    Positive       0.00      0.00      0.00         2\n",
            "\n",
            "    accuracy                           0.44         9\n",
            "   macro avg       0.15      0.33      0.21         9\n",
            "weighted avg       0.20      0.44      0.27         9\n",
            "\n"
          ]
        },
        {
          "output_type": "stream",
          "name": "stderr",
          "text": [
            "/usr/local/lib/python3.10/dist-packages/sklearn/metrics/_classification.py:1344: UndefinedMetricWarning: Precision and F-score are ill-defined and being set to 0.0 in labels with no predicted samples. Use `zero_division` parameter to control this behavior.\n",
            "  _warn_prf(average, modifier, msg_start, len(result))\n",
            "/usr/local/lib/python3.10/dist-packages/sklearn/metrics/_classification.py:1344: UndefinedMetricWarning: Precision and F-score are ill-defined and being set to 0.0 in labels with no predicted samples. Use `zero_division` parameter to control this behavior.\n",
            "  _warn_prf(average, modifier, msg_start, len(result))\n",
            "/usr/local/lib/python3.10/dist-packages/sklearn/metrics/_classification.py:1344: UndefinedMetricWarning: Precision and F-score are ill-defined and being set to 0.0 in labels with no predicted samples. Use `zero_division` parameter to control this behavior.\n",
            "  _warn_prf(average, modifier, msg_start, len(result))\n",
            "/usr/local/lib/python3.10/dist-packages/sklearn/metrics/_classification.py:1344: UndefinedMetricWarning: Precision and F-score are ill-defined and being set to 0.0 in labels with no predicted samples. Use `zero_division` parameter to control this behavior.\n",
            "  _warn_prf(average, modifier, msg_start, len(result))\n",
            "/usr/local/lib/python3.10/dist-packages/sklearn/metrics/_classification.py:1344: UndefinedMetricWarning: Precision and F-score are ill-defined and being set to 0.0 in labels with no predicted samples. Use `zero_division` parameter to control this behavior.\n",
            "  _warn_prf(average, modifier, msg_start, len(result))\n",
            "/usr/local/lib/python3.10/dist-packages/sklearn/metrics/_classification.py:1344: UndefinedMetricWarning: Precision and F-score are ill-defined and being set to 0.0 in labels with no predicted samples. Use `zero_division` parameter to control this behavior.\n",
            "  _warn_prf(average, modifier, msg_start, len(result))\n",
            "/usr/local/lib/python3.10/dist-packages/sklearn/metrics/_classification.py:1344: UndefinedMetricWarning: Precision and F-score are ill-defined and being set to 0.0 in labels with no predicted samples. Use `zero_division` parameter to control this behavior.\n",
            "  _warn_prf(average, modifier, msg_start, len(result))\n",
            "/usr/local/lib/python3.10/dist-packages/sklearn/metrics/_classification.py:1344: UndefinedMetricWarning: Precision and F-score are ill-defined and being set to 0.0 in labels with no predicted samples. Use `zero_division` parameter to control this behavior.\n",
            "  _warn_prf(average, modifier, msg_start, len(result))\n",
            "/usr/local/lib/python3.10/dist-packages/sklearn/metrics/_classification.py:1344: UndefinedMetricWarning: Precision and F-score are ill-defined and being set to 0.0 in labels with no predicted samples. Use `zero_division` parameter to control this behavior.\n",
            "  _warn_prf(average, modifier, msg_start, len(result))\n"
          ]
        }
      ]
    },
    {
      "cell_type": "code",
      "source": [
        "import seaborn as sns\n",
        "\n",
        "# Create a list of algorithm names\n",
        "algorithm_names = ['Naive Bayes', 'SVM', 'Logistic Regression']\n",
        "\n",
        "# Create a list of evaluation metrics\n",
        "evaluation_metrics = ['precision', 'recall', 'f1-score']\n",
        "\n",
        "# Create a matrix of evaluation scores for each algorithm and metric\n",
        "evaluation_scores = [[nb_precision, svm_precision, lr_precision],\n",
        "                     [nb_recall, svm_recall, lr_recall],\n",
        "                     [nb_f1, svm_f1, lr_f1]]\n",
        "\n",
        "# Create a dataframe from the evaluation scores\n",
        "df_scores = pd.DataFrame(evaluation_scores, index=evaluation_metrics, columns=algorithm_names)\n",
        "\n",
        "# Plot the heatmap\n",
        "plt.figure(figsize=(10, 6))\n",
        "sns.heatmap(df_scores, annot=True, cmap='Blues', fmt='.3f')\n",
        "plt.title('Evaluation Metrics for Sentiment Analysis Algorithms')\n",
        "plt.xlabel('Algorithms')\n",
        "plt.ylabel('Metrics')\n",
        "plt.show()\n"
      ],
      "metadata": {
        "colab": {
          "base_uri": "https://localhost:8080/",
          "height": 562
        },
        "id": "ns-H8Pu0shjW",
        "outputId": "2e93edc3-1be5-49dc-a761-688d951169a5"
      },
      "execution_count": 152,
      "outputs": [
        {
          "output_type": "display_data",
          "data": {
            "text/plain": [
              "<Figure size 1000x600 with 2 Axes>"
            ],
            "image/png": "[encoded data removed]"
          },
          "metadata": {}
        }
      ]
    },
    {
      "cell_type": "code",
      "source": [
        "from sklearn.naive_bayes import MultinomialNB\n",
        "from sklearn.svm import SVC\n",
        "from sklearn.linear_model import LogisticRegression\n",
        "from sklearn.metrics import precision_score, recall_score, accuracy_score, f1_score\n",
        "\n",
        "# Initialize the models\n",
        "nb_model = MultinomialNB()\n",
        "svm_model = SVC()\n",
        "lr_model = LogisticRegression()\n",
        "\n",
        "# Train the models\n",
        "nb_model.fit(X_train, y_train)\n",
        "svm_model.fit(X_train, y_train)\n",
        "lr_model.fit(X_train, y_train)\n",
        "\n",
        "# Make predictions\n",
        "nb_pred = nb_model.predict(X_test)\n",
        "svm_pred = svm_model.predict(X_test)\n",
        "lr_pred = lr_model.predict(X_test)\n",
        "\n",
        "# Calculate evaluation metrics\n",
        "nb_precision = precision_score(y_test, nb_pred, average='macro')\n",
        "nb_recall = recall_score(y_test, nb_pred, average='macro')\n",
        "nb_accuracy = accuracy_score(y_test, nb_pred)\n",
        "nb_f1 = f1_score(y_test, nb_pred, average='macro')\n",
        "\n",
        "svm_precision = precision_score(y_test, svm_pred, average='macro')\n",
        "svm_recall = recall_score(y_test, svm_pred, average='macro')\n",
        "svm_accuracy = accuracy_score(y_test, svm_pred)\n",
        "svm_f1 = f1_score(y_test, svm_pred, average='macro')\n",
        "\n",
        "lr_precision = precision_score(y_test, lr_pred, average='macro')\n",
        "lr_recall = recall_score(y_test, lr_pred, average='macro')\n",
        "lr_accuracy = accuracy_score(y_test, lr_pred)\n",
        "lr_f1 = f1_score(y_test, lr_pred, average='macro')\n",
        "\n",
        "# Compare the evaluation metrics\n",
        "print(\"Naive Bayes:\")\n",
        "print(f\"Precision: {nb_precision}\")\n",
        "print(f\"Recall: {nb_recall}\")\n",
        "print(f\"Accuracy: {nb_accuracy}\")\n",
        "print(f\"F1 Score: {nb_f1}\")\n",
        "print()\n",
        "\n",
        "print(\"SVM:\")\n",
        "print(f\"Precision: {svm_precision}\")\n",
        "print(f\"Recall: {svm_recall}\")\n",
        "print(f\"Accuracy: {svm_accuracy}\")\n",
        "print(f\"F1 Score: {svm_f1}\")\n",
        "print()\n",
        "\n",
        "print(\"Logistic Regression:\")\n",
        "print(f\"Precision: {lr_precision}\")\n",
        "print(f\"Recall: {lr_recall}\")\n",
        "print(f\"Accuracy: {lr_accuracy}\")\n",
        "print(f\"F1 Score: {lr_f1}\")\n",
        "print()\n",
        "\n",
        "# Compare the algorithms and select the best one based on a specific metric (e.g., accuracy)\n",
        "if nb_accuracy >= svm_accuracy and nb_accuracy >= lr_accuracy:\n",
        "    best_algorithm = \"Naive Bayes\"\n",
        "elif svm_accuracy >= nb_accuracy and svm_accuracy >= lr_accuracy:\n",
        "    best_algorithm = \"SVM\"\n",
        "else:\n",
        "    best_algorithm = \"Logistic Regression\"\n",
        "\n",
        "print(f\"The best algorithm for sentiment analysis is: {best_algorithm}\")\n"
      ],
      "metadata": {
        "colab": {
          "base_uri": "https://localhost:8080/",
          "height": 0
        },
        "id": "C9Vh2rmpsrGB",
        "outputId": "2e03d621-e280-40d2-b90a-5b7f4cf7369e"
      },
      "execution_count": 160,
      "outputs": [
        {
          "output_type": "stream",
          "name": "stdout",
          "text": [
            "Naive Bayes:\n",
            "Precision: 0.30952380952380953\n",
            "Recall: 0.4166666666666667\n",
            "Accuracy: 0.4444444444444444\n",
            "F1 Score: 0.34848484848484845\n",
            "\n",
            "SVM:\n",
            "Precision: 0.14814814814814814\n",
            "Recall: 0.3333333333333333\n",
            "Accuracy: 0.4444444444444444\n",
            "F1 Score: 0.2051282051282051\n",
            "\n",
            "Logistic Regression:\n",
            "Precision: 0.14814814814814814\n",
            "Recall: 0.3333333333333333\n",
            "Accuracy: 0.4444444444444444\n",
            "F1 Score: 0.2051282051282051\n",
            "\n",
            "The best algorithm for sentiment analysis is: Naive Bayes\n"
          ]
        },
        {
          "output_type": "stream",
          "name": "stderr",
          "text": [
            "/usr/local/lib/python3.10/dist-packages/sklearn/metrics/_classification.py:1344: UndefinedMetricWarning: Precision is ill-defined and being set to 0.0 in labels with no predicted samples. Use `zero_division` parameter to control this behavior.\n",
            "  _warn_prf(average, modifier, msg_start, len(result))\n",
            "/usr/local/lib/python3.10/dist-packages/sklearn/metrics/_classification.py:1344: UndefinedMetricWarning: Precision is ill-defined and being set to 0.0 in labels with no predicted samples. Use `zero_division` parameter to control this behavior.\n",
            "  _warn_prf(average, modifier, msg_start, len(result))\n",
            "/usr/local/lib/python3.10/dist-packages/sklearn/metrics/_classification.py:1344: UndefinedMetricWarning: Precision is ill-defined and being set to 0.0 in labels with no predicted samples. Use `zero_division` parameter to control this behavior.\n",
            "  _warn_prf(average, modifier, msg_start, len(result))\n"
          ]
        }
      ]
    },
    {
      "cell_type": "code",
      "source": [],
      "metadata": {
        "id": "hDNFrhbQuF4U"
      },
      "execution_count": null,
      "outputs": []
    },
    {
      "cell_type": "markdown",
      "source": [
        "Novalty checking"
      ],
      "metadata": {
        "id": "6ej0G9tHuDgf"
      }
    }
  ]
}